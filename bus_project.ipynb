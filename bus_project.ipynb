{
 "metadata": {
  "language_info": {
   "codemirror_mode": {
    "name": "ipython",
    "version": 3
   },
   "file_extension": ".py",
   "mimetype": "text/x-python",
   "name": "python",
   "nbconvert_exporter": "python",
   "pygments_lexer": "ipython3",
   "version": "3.8.3-final"
  },
  "orig_nbformat": 2,
  "kernelspec": {
   "name": "python3",
   "display_name": "Python 3"
  }
 },
 "nbformat": 4,
 "nbformat_minor": 2,
 "cells": [
  {
   "cell_type": "code",
   "execution_count": 79,
   "metadata": {},
   "outputs": [],
   "source": [
    "#Dependencies\n",
    "import gmaps\n",
    "import numpy as np\n",
    "import pandas as pd\n",
    "import matplotlib.pyplot as plt\n",
    "import requests\n",
    "from scipy.stats import linregress\n",
    "from math import *\n",
    "import datetime\n",
    "\n",
    "# Google developer API key\n",
    "from config import gkey\n",
    "\n",
    "# Access maps with unique API key\n",
    "gmaps.configure(api_key=gkey)"
   ]
  },
  {
   "cell_type": "code",
   "execution_count": 2,
   "metadata": {},
   "outputs": [
    {
     "output_type": "execute_result",
     "data": {
      "text/plain": "   stop_id  stop_code                        stop_name  stop_desc   stop_lat  \\\n0      1.0        NaN           COLUMBUS ST & BROADWAY        NaN  41.392985   \n1      2.0        NaN  10800 BROOKPARK RD (HOME DEPOT)        NaN  41.418571   \n2      4.0        NaN           EUCLID AV & E 100TH ST        NaN  41.503697   \n3      5.0        NaN             10081 W RIDGEWOOD DR        NaN  41.384506   \n4     14.0        NaN         PROSPECT AV & ONTARIO ST        NaN  41.498030   \n\n    stop_lon  zone_id  stop_url  location_type parent_station  \n0 -81.536518      NaN       NaN              0            NaN  \n1 -81.760947      NaN       NaN              0            NaN  \n2 -81.618108      NaN       NaN              0            NaN  \n3 -81.756317      NaN       NaN              0            NaN  \n4 -81.692012      NaN       NaN              0            NaN  ",
      "text/html": "<div>\n<style scoped>\n    .dataframe tbody tr th:only-of-type {\n        vertical-align: middle;\n    }\n\n    .dataframe tbody tr th {\n        vertical-align: top;\n    }\n\n    .dataframe thead th {\n        text-align: right;\n    }\n</style>\n<table border=\"1\" class=\"dataframe\">\n  <thead>\n    <tr style=\"text-align: right;\">\n      <th></th>\n      <th>stop_id</th>\n      <th>stop_code</th>\n      <th>stop_name</th>\n      <th>stop_desc</th>\n      <th>stop_lat</th>\n      <th>stop_lon</th>\n      <th>zone_id</th>\n      <th>stop_url</th>\n      <th>location_type</th>\n      <th>parent_station</th>\n    </tr>\n  </thead>\n  <tbody>\n    <tr>\n      <th>0</th>\n      <td>1.0</td>\n      <td>NaN</td>\n      <td>COLUMBUS ST &amp; BROADWAY</td>\n      <td>NaN</td>\n      <td>41.392985</td>\n      <td>-81.536518</td>\n      <td>NaN</td>\n      <td>NaN</td>\n      <td>0</td>\n      <td>NaN</td>\n    </tr>\n    <tr>\n      <th>1</th>\n      <td>2.0</td>\n      <td>NaN</td>\n      <td>10800 BROOKPARK RD (HOME DEPOT)</td>\n      <td>NaN</td>\n      <td>41.418571</td>\n      <td>-81.760947</td>\n      <td>NaN</td>\n      <td>NaN</td>\n      <td>0</td>\n      <td>NaN</td>\n    </tr>\n    <tr>\n      <th>2</th>\n      <td>4.0</td>\n      <td>NaN</td>\n      <td>EUCLID AV &amp; E 100TH ST</td>\n      <td>NaN</td>\n      <td>41.503697</td>\n      <td>-81.618108</td>\n      <td>NaN</td>\n      <td>NaN</td>\n      <td>0</td>\n      <td>NaN</td>\n    </tr>\n    <tr>\n      <th>3</th>\n      <td>5.0</td>\n      <td>NaN</td>\n      <td>10081 W RIDGEWOOD DR</td>\n      <td>NaN</td>\n      <td>41.384506</td>\n      <td>-81.756317</td>\n      <td>NaN</td>\n      <td>NaN</td>\n      <td>0</td>\n      <td>NaN</td>\n    </tr>\n    <tr>\n      <th>4</th>\n      <td>14.0</td>\n      <td>NaN</td>\n      <td>PROSPECT AV &amp; ONTARIO ST</td>\n      <td>NaN</td>\n      <td>41.498030</td>\n      <td>-81.692012</td>\n      <td>NaN</td>\n      <td>NaN</td>\n      <td>0</td>\n      <td>NaN</td>\n    </tr>\n  </tbody>\n</table>\n</div>"
     },
     "metadata": {},
     "execution_count": 2
    }
   ],
   "source": [
    "# The path to our bus stop locations CSV file\n",
    "locations_file = \"Resources/stops.csv\"\n",
    "\n",
    "# Read our file data into pandas\n",
    "locations_df = pd.read_csv(locations_file)\n",
    "locations_df.head()"
   ]
  },
  {
   "cell_type": "code",
   "execution_count": 3,
   "metadata": {},
   "outputs": [
    {
     "output_type": "execute_result",
     "data": {
      "text/plain": "    trip_id arrival_time departure_time  stop_id  stop_sequence  pickup_type  \\\n0  16741667   3:21:00 AM     3:21:00 AM    14507              1            0   \n1  16741667   3:22:00 AM     3:22:00 AM     4568              2            0   \n2  16741667   3:23:00 AM     3:23:00 AM     4522              3            0   \n3  16741667   3:24:00 AM     3:24:00 AM     4378              4            0   \n4  16741667   3:25:00 AM     3:25:00 AM     4556              5            0   \n\n   drop_off_type  \n0              0  \n1              0  \n2              0  \n3              0  \n4              0  ",
      "text/html": "<div>\n<style scoped>\n    .dataframe tbody tr th:only-of-type {\n        vertical-align: middle;\n    }\n\n    .dataframe tbody tr th {\n        vertical-align: top;\n    }\n\n    .dataframe thead th {\n        text-align: right;\n    }\n</style>\n<table border=\"1\" class=\"dataframe\">\n  <thead>\n    <tr style=\"text-align: right;\">\n      <th></th>\n      <th>trip_id</th>\n      <th>arrival_time</th>\n      <th>departure_time</th>\n      <th>stop_id</th>\n      <th>stop_sequence</th>\n      <th>pickup_type</th>\n      <th>drop_off_type</th>\n    </tr>\n  </thead>\n  <tbody>\n    <tr>\n      <th>0</th>\n      <td>16741667</td>\n      <td>3:21:00 AM</td>\n      <td>3:21:00 AM</td>\n      <td>14507</td>\n      <td>1</td>\n      <td>0</td>\n      <td>0</td>\n    </tr>\n    <tr>\n      <th>1</th>\n      <td>16741667</td>\n      <td>3:22:00 AM</td>\n      <td>3:22:00 AM</td>\n      <td>4568</td>\n      <td>2</td>\n      <td>0</td>\n      <td>0</td>\n    </tr>\n    <tr>\n      <th>2</th>\n      <td>16741667</td>\n      <td>3:23:00 AM</td>\n      <td>3:23:00 AM</td>\n      <td>4522</td>\n      <td>3</td>\n      <td>0</td>\n      <td>0</td>\n    </tr>\n    <tr>\n      <th>3</th>\n      <td>16741667</td>\n      <td>3:24:00 AM</td>\n      <td>3:24:00 AM</td>\n      <td>4378</td>\n      <td>4</td>\n      <td>0</td>\n      <td>0</td>\n    </tr>\n    <tr>\n      <th>4</th>\n      <td>16741667</td>\n      <td>3:25:00 AM</td>\n      <td>3:25:00 AM</td>\n      <td>4556</td>\n      <td>5</td>\n      <td>0</td>\n      <td>0</td>\n    </tr>\n  </tbody>\n</table>\n</div>"
     },
     "metadata": {},
     "execution_count": 3
    }
   ],
   "source": [
    "# The path to our bus stop times CSV file\n",
    "stops_file = \"Resources/stop_times.csv\"\n",
    "\n",
    "# Read our file data into pandas\n",
    "stops_df = pd.read_csv(stops_file)\n",
    "stops_df.head()"
   ]
  },
  {
   "cell_type": "code",
   "execution_count": 4,
   "metadata": {},
   "outputs": [
    {
     "output_type": "execute_result",
     "data": {
      "text/plain": "   stop_id  stop_code               stop_name  stop_desc   stop_lat  \\\n0      1.0        NaN  COLUMBUS ST & BROADWAY        NaN  41.392985   \n1      1.0        NaN  COLUMBUS ST & BROADWAY        NaN  41.392985   \n2      1.0        NaN  COLUMBUS ST & BROADWAY        NaN  41.392985   \n3      1.0        NaN  COLUMBUS ST & BROADWAY        NaN  41.392985   \n4      1.0        NaN  COLUMBUS ST & BROADWAY        NaN  41.392985   \n\n    stop_lon  zone_id  stop_url  location_type parent_station   trip_id  \\\n0 -81.536518      NaN       NaN              0            NaN  16741990   \n1 -81.536518      NaN       NaN              0            NaN  16741993   \n2 -81.536518      NaN       NaN              0            NaN  16741995   \n3 -81.536518      NaN       NaN              0            NaN  16741997   \n4 -81.536518      NaN       NaN              0            NaN  16741999   \n\n  arrival_time departure_time  stop_sequence  pickup_type  drop_off_type  \n0   5:54:00 AM     5:54:00 AM             82            0              0  \n1   6:54:00 AM     6:54:00 AM             82            0              0  \n2   7:25:00 AM     7:25:00 AM             82            0              0  \n3   7:57:00 AM     7:57:00 AM             82            0              0  \n4   8:28:00 AM     8:28:00 AM             82            0              0  ",
      "text/html": "<div>\n<style scoped>\n    .dataframe tbody tr th:only-of-type {\n        vertical-align: middle;\n    }\n\n    .dataframe tbody tr th {\n        vertical-align: top;\n    }\n\n    .dataframe thead th {\n        text-align: right;\n    }\n</style>\n<table border=\"1\" class=\"dataframe\">\n  <thead>\n    <tr style=\"text-align: right;\">\n      <th></th>\n      <th>stop_id</th>\n      <th>stop_code</th>\n      <th>stop_name</th>\n      <th>stop_desc</th>\n      <th>stop_lat</th>\n      <th>stop_lon</th>\n      <th>zone_id</th>\n      <th>stop_url</th>\n      <th>location_type</th>\n      <th>parent_station</th>\n      <th>trip_id</th>\n      <th>arrival_time</th>\n      <th>departure_time</th>\n      <th>stop_sequence</th>\n      <th>pickup_type</th>\n      <th>drop_off_type</th>\n    </tr>\n  </thead>\n  <tbody>\n    <tr>\n      <th>0</th>\n      <td>1.0</td>\n      <td>NaN</td>\n      <td>COLUMBUS ST &amp; BROADWAY</td>\n      <td>NaN</td>\n      <td>41.392985</td>\n      <td>-81.536518</td>\n      <td>NaN</td>\n      <td>NaN</td>\n      <td>0</td>\n      <td>NaN</td>\n      <td>16741990</td>\n      <td>5:54:00 AM</td>\n      <td>5:54:00 AM</td>\n      <td>82</td>\n      <td>0</td>\n      <td>0</td>\n    </tr>\n    <tr>\n      <th>1</th>\n      <td>1.0</td>\n      <td>NaN</td>\n      <td>COLUMBUS ST &amp; BROADWAY</td>\n      <td>NaN</td>\n      <td>41.392985</td>\n      <td>-81.536518</td>\n      <td>NaN</td>\n      <td>NaN</td>\n      <td>0</td>\n      <td>NaN</td>\n      <td>16741993</td>\n      <td>6:54:00 AM</td>\n      <td>6:54:00 AM</td>\n      <td>82</td>\n      <td>0</td>\n      <td>0</td>\n    </tr>\n    <tr>\n      <th>2</th>\n      <td>1.0</td>\n      <td>NaN</td>\n      <td>COLUMBUS ST &amp; BROADWAY</td>\n      <td>NaN</td>\n      <td>41.392985</td>\n      <td>-81.536518</td>\n      <td>NaN</td>\n      <td>NaN</td>\n      <td>0</td>\n      <td>NaN</td>\n      <td>16741995</td>\n      <td>7:25:00 AM</td>\n      <td>7:25:00 AM</td>\n      <td>82</td>\n      <td>0</td>\n      <td>0</td>\n    </tr>\n    <tr>\n      <th>3</th>\n      <td>1.0</td>\n      <td>NaN</td>\n      <td>COLUMBUS ST &amp; BROADWAY</td>\n      <td>NaN</td>\n      <td>41.392985</td>\n      <td>-81.536518</td>\n      <td>NaN</td>\n      <td>NaN</td>\n      <td>0</td>\n      <td>NaN</td>\n      <td>16741997</td>\n      <td>7:57:00 AM</td>\n      <td>7:57:00 AM</td>\n      <td>82</td>\n      <td>0</td>\n      <td>0</td>\n    </tr>\n    <tr>\n      <th>4</th>\n      <td>1.0</td>\n      <td>NaN</td>\n      <td>COLUMBUS ST &amp; BROADWAY</td>\n      <td>NaN</td>\n      <td>41.392985</td>\n      <td>-81.536518</td>\n      <td>NaN</td>\n      <td>NaN</td>\n      <td>0</td>\n      <td>NaN</td>\n      <td>16741999</td>\n      <td>8:28:00 AM</td>\n      <td>8:28:00 AM</td>\n      <td>82</td>\n      <td>0</td>\n      <td>0</td>\n    </tr>\n  </tbody>\n</table>\n</div>"
     },
     "metadata": {},
     "execution_count": 4
    }
   ],
   "source": [
    "# merge\n",
    "bus_data = pd.merge(locations_df, stops_df, on=[\"stop_id\", \"stop_id\"])\n",
    "bus_data.head()"
   ]
  },
  {
   "cell_type": "code",
   "execution_count": 5,
   "metadata": {},
   "outputs": [
    {
     "output_type": "execute_result",
     "data": {
      "text/plain": "stop_id  stop_lat   stop_lon  \n1.0      41.392985  -81.536518     63\n2.0      41.418571  -81.760947     72\n4.0      41.503697  -81.618108    241\n5.0      41.384506  -81.756317    108\n14.0     41.498030  -81.692012    370\n                                 ... \n50001.0  41.500290  -81.691917    492\n60001.0  41.500764  -81.682781    172\n60002.0  41.500256  -81.686436    166\n60003.0  41.499918  -81.688906    166\n60004.0  41.499515  -81.691994    161\nName: arrival_time, Length: 5799, dtype: int64"
     },
     "metadata": {},
     "execution_count": 5
    }
   ],
   "source": [
    "#groupby stop id to see how many stops \n",
    "grouped_bystops = bus_data.groupby(['stop_id', 'stop_lat', 'stop_lon'])\n",
    "numberstops = grouped_bystops['arrival_time'].nunique()\n",
    "numberstops"
   ]
  },
  {
   "cell_type": "code",
   "execution_count": 6,
   "metadata": {},
   "outputs": [],
   "source": [
    "#numberstops.tolist()"
   ]
  },
  {
   "cell_type": "code",
   "execution_count": 7,
   "metadata": {},
   "outputs": [
    {
     "output_type": "execute_result",
     "data": {
      "text/plain": "                              Number of Stops\nstop_id stop_lat  stop_lon                   \n1.0     41.392985 -81.536518               63\n2.0     41.418571 -81.760947               72\n4.0     41.503697 -81.618108              241\n5.0     41.384506 -81.756317              108\n14.0    41.498030 -81.692012              370\n...                                       ...\n50001.0 41.500290 -81.691917              492\n60001.0 41.500764 -81.682781              172\n60002.0 41.500256 -81.686436              166\n60003.0 41.499918 -81.688906              166\n60004.0 41.499515 -81.691994              161\n\n[5799 rows x 1 columns]",
      "text/html": "<div>\n<style scoped>\n    .dataframe tbody tr th:only-of-type {\n        vertical-align: middle;\n    }\n\n    .dataframe tbody tr th {\n        vertical-align: top;\n    }\n\n    .dataframe thead th {\n        text-align: right;\n    }\n</style>\n<table border=\"1\" class=\"dataframe\">\n  <thead>\n    <tr style=\"text-align: right;\">\n      <th></th>\n      <th></th>\n      <th></th>\n      <th>Number of Stops</th>\n    </tr>\n    <tr>\n      <th>stop_id</th>\n      <th>stop_lat</th>\n      <th>stop_lon</th>\n      <th></th>\n    </tr>\n  </thead>\n  <tbody>\n    <tr>\n      <th>1.0</th>\n      <th>41.392985</th>\n      <th>-81.536518</th>\n      <td>63</td>\n    </tr>\n    <tr>\n      <th>2.0</th>\n      <th>41.418571</th>\n      <th>-81.760947</th>\n      <td>72</td>\n    </tr>\n    <tr>\n      <th>4.0</th>\n      <th>41.503697</th>\n      <th>-81.618108</th>\n      <td>241</td>\n    </tr>\n    <tr>\n      <th>5.0</th>\n      <th>41.384506</th>\n      <th>-81.756317</th>\n      <td>108</td>\n    </tr>\n    <tr>\n      <th>14.0</th>\n      <th>41.498030</th>\n      <th>-81.692012</th>\n      <td>370</td>\n    </tr>\n    <tr>\n      <th>...</th>\n      <th>...</th>\n      <th>...</th>\n      <td>...</td>\n    </tr>\n    <tr>\n      <th>50001.0</th>\n      <th>41.500290</th>\n      <th>-81.691917</th>\n      <td>492</td>\n    </tr>\n    <tr>\n      <th>60001.0</th>\n      <th>41.500764</th>\n      <th>-81.682781</th>\n      <td>172</td>\n    </tr>\n    <tr>\n      <th>60002.0</th>\n      <th>41.500256</th>\n      <th>-81.686436</th>\n      <td>166</td>\n    </tr>\n    <tr>\n      <th>60003.0</th>\n      <th>41.499918</th>\n      <th>-81.688906</th>\n      <td>166</td>\n    </tr>\n    <tr>\n      <th>60004.0</th>\n      <th>41.499515</th>\n      <th>-81.691994</th>\n      <td>161</td>\n    </tr>\n  </tbody>\n</table>\n<p>5799 rows × 1 columns</p>\n</div>"
     },
     "metadata": {},
     "execution_count": 7
    }
   ],
   "source": [
    "stopnum_df = pd.DataFrame({\"Number of Stops\":numberstops})\n",
    "stopnum_df"
   ]
  },
  {
   "cell_type": "code",
   "execution_count": 8,
   "metadata": {},
   "outputs": [],
   "source": [
    "# merge stops with lat and long\n",
    "stopnum_df.reset_index(inplace = True)\n"
   ]
  },
  {
   "cell_type": "code",
   "execution_count": 9,
   "metadata": {},
   "outputs": [],
   "source": [
    "# Store lat and long\n",
    "locations = stopnum_df[['stop_lat','stop_lon']]\n",
    "stops = stopnum_df[['Number of Stops']].astype(float)"
   ]
  },
  {
   "cell_type": "code",
   "execution_count": 10,
   "metadata": {},
   "outputs": [
    {
     "output_type": "display_data",
     "data": {
      "text/plain": "Figure(layout=FigureLayout(height='420px'))",
      "application/vnd.jupyter.widget-view+json": {
       "version_major": 2,
       "version_minor": 0,
       "model_id": "89c91759e0b045ba90a1e74e710a21fa"
      }
     },
     "metadata": {}
    }
   ],
   "source": [
    "# Plot Heatmap\n",
    "fig_heat = gmaps.figure()\n",
    "heat_layer = gmaps.heatmap_layer(locations, dissipating=False, max_intensity=2, point_radius=.0025)\n",
    "fig_heat.add_layer(heat_layer)\n",
    "fig_heat"
   ]
  },
  {
   "cell_type": "code",
   "execution_count": 11,
   "metadata": {},
   "outputs": [
    {
     "output_type": "display_data",
     "data": {
      "text/plain": "Figure(layout=FigureLayout(height='420px'))",
      "application/vnd.jupyter.widget-view+json": {
       "version_major": 2,
       "version_minor": 0,
       "model_id": "3662a063bf1444008659f88c4c332117"
      }
     },
     "metadata": {}
    }
   ],
   "source": [
    "# plot locations\n",
    "fig_mark = gmaps.figure()\n",
    "# Assign the marker layer to a variable\n",
    "markers = gmaps.marker_layer(locations)\n",
    "# Add the layer to the map\n",
    "fig_mark.add_layer(markers)\n",
    "fig_mark"
   ]
  },
  {
   "cell_type": "code",
   "execution_count": 92,
   "metadata": {},
   "outputs": [],
   "source": [
    "# Add destination coordinates for Public Square\n",
    "dest_coords = (41.4997,81.6937)\n",
    "\n",
    "#stopnum_df[\"Distance (m)\"] = \"\""
   ]
  },
  {
   "cell_type": "code",
   "execution_count": 93,
   "metadata": {},
   "outputs": [
    {
     "output_type": "execute_result",
     "data": {
      "text/plain": "         trip_id arrival_time departure_time  stop_id  stop_sequence  \\\n0       16741667   3:21:00 AM     3:21:00 AM    14507              1   \n1       16741667   3:22:00 AM     3:22:00 AM     4568              2   \n2       16741667   3:23:00 AM     3:23:00 AM     4522              3   \n3       16741667   3:24:00 AM     3:24:00 AM     4378              4   \n4       16741667   3:25:00 AM     3:25:00 AM     4556              5   \n...          ...          ...            ...      ...            ...   \n953813  16803524  11:55:00 PM    11:55:00 PM    21023             80   \n953814  16803524  11:56:00 PM    11:56:00 PM    14159             81   \n953815  16803524  11:56:00 PM    11:56:00 PM    14602             82   \n953816  16803524  11:57:00 PM    11:57:00 PM    14603             83   \n953817  16803524  11:57:00 PM    11:57:00 PM    14599             84   \n\n        pickup_type  drop_off_type  \n0                 0              0  \n1                 0              0  \n2                 0              0  \n3                 0              0  \n4                 0              0  \n...             ...            ...  \n953813            0              0  \n953814            0              0  \n953815            0              0  \n953816            0              0  \n953817            0              0  \n\n[905394 rows x 7 columns]",
      "text/html": "<div>\n<style scoped>\n    .dataframe tbody tr th:only-of-type {\n        vertical-align: middle;\n    }\n\n    .dataframe tbody tr th {\n        vertical-align: top;\n    }\n\n    .dataframe thead th {\n        text-align: right;\n    }\n</style>\n<table border=\"1\" class=\"dataframe\">\n  <thead>\n    <tr style=\"text-align: right;\">\n      <th></th>\n      <th>trip_id</th>\n      <th>arrival_time</th>\n      <th>departure_time</th>\n      <th>stop_id</th>\n      <th>stop_sequence</th>\n      <th>pickup_type</th>\n      <th>drop_off_type</th>\n    </tr>\n  </thead>\n  <tbody>\n    <tr>\n      <th>0</th>\n      <td>16741667</td>\n      <td>3:21:00 AM</td>\n      <td>3:21:00 AM</td>\n      <td>14507</td>\n      <td>1</td>\n      <td>0</td>\n      <td>0</td>\n    </tr>\n    <tr>\n      <th>1</th>\n      <td>16741667</td>\n      <td>3:22:00 AM</td>\n      <td>3:22:00 AM</td>\n      <td>4568</td>\n      <td>2</td>\n      <td>0</td>\n      <td>0</td>\n    </tr>\n    <tr>\n      <th>2</th>\n      <td>16741667</td>\n      <td>3:23:00 AM</td>\n      <td>3:23:00 AM</td>\n      <td>4522</td>\n      <td>3</td>\n      <td>0</td>\n      <td>0</td>\n    </tr>\n    <tr>\n      <th>3</th>\n      <td>16741667</td>\n      <td>3:24:00 AM</td>\n      <td>3:24:00 AM</td>\n      <td>4378</td>\n      <td>4</td>\n      <td>0</td>\n      <td>0</td>\n    </tr>\n    <tr>\n      <th>4</th>\n      <td>16741667</td>\n      <td>3:25:00 AM</td>\n      <td>3:25:00 AM</td>\n      <td>4556</td>\n      <td>5</td>\n      <td>0</td>\n      <td>0</td>\n    </tr>\n    <tr>\n      <th>...</th>\n      <td>...</td>\n      <td>...</td>\n      <td>...</td>\n      <td>...</td>\n      <td>...</td>\n      <td>...</td>\n      <td>...</td>\n    </tr>\n    <tr>\n      <th>953813</th>\n      <td>16803524</td>\n      <td>11:55:00 PM</td>\n      <td>11:55:00 PM</td>\n      <td>21023</td>\n      <td>80</td>\n      <td>0</td>\n      <td>0</td>\n    </tr>\n    <tr>\n      <th>953814</th>\n      <td>16803524</td>\n      <td>11:56:00 PM</td>\n      <td>11:56:00 PM</td>\n      <td>14159</td>\n      <td>81</td>\n      <td>0</td>\n      <td>0</td>\n    </tr>\n    <tr>\n      <th>953815</th>\n      <td>16803524</td>\n      <td>11:56:00 PM</td>\n      <td>11:56:00 PM</td>\n      <td>14602</td>\n      <td>82</td>\n      <td>0</td>\n      <td>0</td>\n    </tr>\n    <tr>\n      <th>953816</th>\n      <td>16803524</td>\n      <td>11:57:00 PM</td>\n      <td>11:57:00 PM</td>\n      <td>14603</td>\n      <td>83</td>\n      <td>0</td>\n      <td>0</td>\n    </tr>\n    <tr>\n      <th>953817</th>\n      <td>16803524</td>\n      <td>11:57:00 PM</td>\n      <td>11:57:00 PM</td>\n      <td>14599</td>\n      <td>84</td>\n      <td>0</td>\n      <td>0</td>\n    </tr>\n  </tbody>\n</table>\n<p>905394 rows × 7 columns</p>\n</div>"
     },
     "metadata": {},
     "execution_count": 93
    }
   ],
   "source": [
    "#Drop rows with bad data\n",
    "clean_trip = stops_df.copy()\n",
    "clean_trip.dropna(how=\"any\",inplace=True)\n",
    "clean_trip"
   ]
  },
  {
   "cell_type": "code",
   "execution_count": 94,
   "metadata": {},
   "outputs": [
    {
     "output_type": "execute_result",
     "data": {
      "text/plain": "    trip_id arrival_time departure_time  stop_id  stop_sequence  pickup_type  \\\n0  16741667   3:21:00 AM     3:21:00 AM    14507              1            0   \n1  16741667   3:22:00 AM     3:22:00 AM     4568              2            0   \n2  16741667   3:23:00 AM     3:23:00 AM     4522              3            0   \n3  16741667   3:24:00 AM     3:24:00 AM     4378              4            0   \n4  16741667   3:25:00 AM     3:25:00 AM     4556              5            0   \n\n   drop_off_type  \n0              0  \n1              0  \n2              0  \n3              0  \n4              0  ",
      "text/html": "<div>\n<style scoped>\n    .dataframe tbody tr th:only-of-type {\n        vertical-align: middle;\n    }\n\n    .dataframe tbody tr th {\n        vertical-align: top;\n    }\n\n    .dataframe thead th {\n        text-align: right;\n    }\n</style>\n<table border=\"1\" class=\"dataframe\">\n  <thead>\n    <tr style=\"text-align: right;\">\n      <th></th>\n      <th>trip_id</th>\n      <th>arrival_time</th>\n      <th>departure_time</th>\n      <th>stop_id</th>\n      <th>stop_sequence</th>\n      <th>pickup_type</th>\n      <th>drop_off_type</th>\n    </tr>\n  </thead>\n  <tbody>\n    <tr>\n      <th>0</th>\n      <td>16741667</td>\n      <td>3:21:00 AM</td>\n      <td>3:21:00 AM</td>\n      <td>14507</td>\n      <td>1</td>\n      <td>0</td>\n      <td>0</td>\n    </tr>\n    <tr>\n      <th>1</th>\n      <td>16741667</td>\n      <td>3:22:00 AM</td>\n      <td>3:22:00 AM</td>\n      <td>4568</td>\n      <td>2</td>\n      <td>0</td>\n      <td>0</td>\n    </tr>\n    <tr>\n      <th>2</th>\n      <td>16741667</td>\n      <td>3:23:00 AM</td>\n      <td>3:23:00 AM</td>\n      <td>4522</td>\n      <td>3</td>\n      <td>0</td>\n      <td>0</td>\n    </tr>\n    <tr>\n      <th>3</th>\n      <td>16741667</td>\n      <td>3:24:00 AM</td>\n      <td>3:24:00 AM</td>\n      <td>4378</td>\n      <td>4</td>\n      <td>0</td>\n      <td>0</td>\n    </tr>\n    <tr>\n      <th>4</th>\n      <td>16741667</td>\n      <td>3:25:00 AM</td>\n      <td>3:25:00 AM</td>\n      <td>4556</td>\n      <td>5</td>\n      <td>0</td>\n      <td>0</td>\n    </tr>\n  </tbody>\n</table>\n</div>"
     },
     "metadata": {},
     "execution_count": 94
    }
   ],
   "source": [
    "clean_trip.set_index(\"arrival_time\")\n",
    "clean_trip.head()"
   ]
  },
  {
   "cell_type": "code",
   "execution_count": 95,
   "metadata": {},
   "outputs": [
    {
     "output_type": "execute_result",
     "data": {
      "text/plain": "         trip_id        arrival_time      departure_time  stop_id  \\\n0       16741667 2020-09-10 03:21:00 2020-09-10 03:21:00    14507   \n1       16741667 2020-09-10 03:22:00 2020-09-10 03:22:00     4568   \n2       16741667 2020-09-10 03:23:00 2020-09-10 03:23:00     4522   \n3       16741667 2020-09-10 03:24:00 2020-09-10 03:24:00     4378   \n4       16741667 2020-09-10 03:25:00 2020-09-10 03:25:00     4556   \n...          ...                 ...                 ...      ...   \n953813  16803524 2020-09-10 23:55:00 2020-09-10 23:55:00    21023   \n953814  16803524 2020-09-10 23:56:00 2020-09-10 23:56:00    14159   \n953815  16803524 2020-09-10 23:56:00 2020-09-10 23:56:00    14602   \n953816  16803524 2020-09-10 23:57:00 2020-09-10 23:57:00    14603   \n953817  16803524 2020-09-10 23:57:00 2020-09-10 23:57:00    14599   \n\n        stop_sequence  pickup_type  drop_off_type  \n0                   1            0              0  \n1                   2            0              0  \n2                   3            0              0  \n3                   4            0              0  \n4                   5            0              0  \n...               ...          ...            ...  \n953813             80            0              0  \n953814             81            0              0  \n953815             82            0              0  \n953816             83            0              0  \n953817             84            0              0  \n\n[905394 rows x 7 columns]",
      "text/html": "<div>\n<style scoped>\n    .dataframe tbody tr th:only-of-type {\n        vertical-align: middle;\n    }\n\n    .dataframe tbody tr th {\n        vertical-align: top;\n    }\n\n    .dataframe thead th {\n        text-align: right;\n    }\n</style>\n<table border=\"1\" class=\"dataframe\">\n  <thead>\n    <tr style=\"text-align: right;\">\n      <th></th>\n      <th>trip_id</th>\n      <th>arrival_time</th>\n      <th>departure_time</th>\n      <th>stop_id</th>\n      <th>stop_sequence</th>\n      <th>pickup_type</th>\n      <th>drop_off_type</th>\n    </tr>\n  </thead>\n  <tbody>\n    <tr>\n      <th>0</th>\n      <td>16741667</td>\n      <td>2020-09-10 03:21:00</td>\n      <td>2020-09-10 03:21:00</td>\n      <td>14507</td>\n      <td>1</td>\n      <td>0</td>\n      <td>0</td>\n    </tr>\n    <tr>\n      <th>1</th>\n      <td>16741667</td>\n      <td>2020-09-10 03:22:00</td>\n      <td>2020-09-10 03:22:00</td>\n      <td>4568</td>\n      <td>2</td>\n      <td>0</td>\n      <td>0</td>\n    </tr>\n    <tr>\n      <th>2</th>\n      <td>16741667</td>\n      <td>2020-09-10 03:23:00</td>\n      <td>2020-09-10 03:23:00</td>\n      <td>4522</td>\n      <td>3</td>\n      <td>0</td>\n      <td>0</td>\n    </tr>\n    <tr>\n      <th>3</th>\n      <td>16741667</td>\n      <td>2020-09-10 03:24:00</td>\n      <td>2020-09-10 03:24:00</td>\n      <td>4378</td>\n      <td>4</td>\n      <td>0</td>\n      <td>0</td>\n    </tr>\n    <tr>\n      <th>4</th>\n      <td>16741667</td>\n      <td>2020-09-10 03:25:00</td>\n      <td>2020-09-10 03:25:00</td>\n      <td>4556</td>\n      <td>5</td>\n      <td>0</td>\n      <td>0</td>\n    </tr>\n    <tr>\n      <th>...</th>\n      <td>...</td>\n      <td>...</td>\n      <td>...</td>\n      <td>...</td>\n      <td>...</td>\n      <td>...</td>\n      <td>...</td>\n    </tr>\n    <tr>\n      <th>953813</th>\n      <td>16803524</td>\n      <td>2020-09-10 23:55:00</td>\n      <td>2020-09-10 23:55:00</td>\n      <td>21023</td>\n      <td>80</td>\n      <td>0</td>\n      <td>0</td>\n    </tr>\n    <tr>\n      <th>953814</th>\n      <td>16803524</td>\n      <td>2020-09-10 23:56:00</td>\n      <td>2020-09-10 23:56:00</td>\n      <td>14159</td>\n      <td>81</td>\n      <td>0</td>\n      <td>0</td>\n    </tr>\n    <tr>\n      <th>953815</th>\n      <td>16803524</td>\n      <td>2020-09-10 23:56:00</td>\n      <td>2020-09-10 23:56:00</td>\n      <td>14602</td>\n      <td>82</td>\n      <td>0</td>\n      <td>0</td>\n    </tr>\n    <tr>\n      <th>953816</th>\n      <td>16803524</td>\n      <td>2020-09-10 23:57:00</td>\n      <td>2020-09-10 23:57:00</td>\n      <td>14603</td>\n      <td>83</td>\n      <td>0</td>\n      <td>0</td>\n    </tr>\n    <tr>\n      <th>953817</th>\n      <td>16803524</td>\n      <td>2020-09-10 23:57:00</td>\n      <td>2020-09-10 23:57:00</td>\n      <td>14599</td>\n      <td>84</td>\n      <td>0</td>\n      <td>0</td>\n    </tr>\n  </tbody>\n</table>\n<p>905394 rows × 7 columns</p>\n</div>"
     },
     "metadata": {},
     "execution_count": 95
    }
   ],
   "source": [
    "#Convert arrival and departure times into timestamps\n",
    "clean_trip[\"arrival_time\"] = pd.to_datetime(clean_trip[\"arrival_time\"])\n",
    "clean_trip[\"departure_time\"] = pd.to_datetime(clean_trip[\"departure_time\"])\n",
    "clean_trip"
   ]
  },
  {
   "cell_type": "code",
   "execution_count": 131,
   "metadata": {},
   "outputs": [
    {
     "output_type": "execute_result",
     "data": {
      "text/plain": "          arrival_time  departure_time  stop_id  stop_sequence  pickup_type  \\\ntrip_id                                                                       \n16723936            18              18       18             18           18   \n16723937            18              18       18             18           18   \n16723938            18              18       18             18           18   \n16723939            18              18       18             18           18   \n16723940            23              23       23             23           23   \n\n          drop_off_type min_arr max_arr  \ntrip_id                                  \n16723936             18                  \n16723937             18                  \n16723938             18                  \n16723939             18                  \n16723940             23                  ",
      "text/html": "<div>\n<style scoped>\n    .dataframe tbody tr th:only-of-type {\n        vertical-align: middle;\n    }\n\n    .dataframe tbody tr th {\n        vertical-align: top;\n    }\n\n    .dataframe thead th {\n        text-align: right;\n    }\n</style>\n<table border=\"1\" class=\"dataframe\">\n  <thead>\n    <tr style=\"text-align: right;\">\n      <th></th>\n      <th>arrival_time</th>\n      <th>departure_time</th>\n      <th>stop_id</th>\n      <th>stop_sequence</th>\n      <th>pickup_type</th>\n      <th>drop_off_type</th>\n      <th>min_arr</th>\n      <th>max_arr</th>\n    </tr>\n    <tr>\n      <th>trip_id</th>\n      <th></th>\n      <th></th>\n      <th></th>\n      <th></th>\n      <th></th>\n      <th></th>\n      <th></th>\n      <th></th>\n    </tr>\n  </thead>\n  <tbody>\n    <tr>\n      <th>16723936</th>\n      <td>18</td>\n      <td>18</td>\n      <td>18</td>\n      <td>18</td>\n      <td>18</td>\n      <td>18</td>\n      <td></td>\n      <td></td>\n    </tr>\n    <tr>\n      <th>16723937</th>\n      <td>18</td>\n      <td>18</td>\n      <td>18</td>\n      <td>18</td>\n      <td>18</td>\n      <td>18</td>\n      <td></td>\n      <td></td>\n    </tr>\n    <tr>\n      <th>16723938</th>\n      <td>18</td>\n      <td>18</td>\n      <td>18</td>\n      <td>18</td>\n      <td>18</td>\n      <td>18</td>\n      <td></td>\n      <td></td>\n    </tr>\n    <tr>\n      <th>16723939</th>\n      <td>18</td>\n      <td>18</td>\n      <td>18</td>\n      <td>18</td>\n      <td>18</td>\n      <td>18</td>\n      <td></td>\n      <td></td>\n    </tr>\n    <tr>\n      <th>16723940</th>\n      <td>23</td>\n      <td>23</td>\n      <td>23</td>\n      <td>23</td>\n      <td>23</td>\n      <td>23</td>\n      <td></td>\n      <td></td>\n    </tr>\n  </tbody>\n</table>\n</div>"
     },
     "metadata": {},
     "execution_count": 131
    }
   ],
   "source": [
    "trip_group = clean_trip.groupby(\"trip_id\").count()\n",
    "trip_group[\"min_arr\"] = \"\"\n",
    "trip_group[\"max_arr\"] = \"\"\n",
    "trip_group.head()"
   ]
  },
  {
   "cell_type": "code",
   "execution_count": 129,
   "metadata": {},
   "outputs": [
    {
     "output_type": "execute_result",
     "data": {
      "text/plain": "         trip_id        arrival_time      departure_time  stop_id  \\\n504408  16723936 2020-09-10 09:30:00 2020-09-10 09:30:00    18915   \n504409  16723936 2020-09-10 09:33:00 2020-09-10 09:33:00    28886   \n504410  16723936 2020-09-10 09:36:00 2020-09-10 09:36:00    30879   \n504411  16723936 2020-09-10 09:39:00 2020-09-10 09:39:00    28923   \n504412  16723936 2020-09-10 09:41:00 2020-09-10 09:41:00    10960   \n504413  16723936 2020-09-10 09:43:00 2020-09-10 09:43:00    10962   \n504414  16723936 2020-09-10 09:45:00 2020-09-10 09:45:00    10963   \n504415  16723936 2020-09-10 09:46:00 2020-09-10 09:46:00    10954   \n504416  16723936 2020-09-10 09:48:00 2020-09-10 09:48:00    10937   \n504417  16723936 2020-09-10 09:49:00 2020-09-10 09:49:00    10936   \n504418  16723936 2020-09-10 09:50:00 2020-09-10 09:50:00     8905   \n504419  16723936 2020-09-10 09:51:00 2020-09-10 09:51:00    10955   \n504420  16723936 2020-09-10 09:53:00 2020-09-10 09:53:00     8930   \n504421  16723936 2020-09-10 09:54:00 2020-09-10 09:54:00     8931   \n504422  16723936 2020-09-10 09:56:00 2020-09-10 09:56:00     8907   \n504423  16723936 2020-09-10 09:57:00 2020-09-10 09:57:00    10934   \n504424  16723936 2020-09-10 09:59:00 2020-09-10 09:59:00     8933   \n504425  16723936 2020-09-10 09:59:00 2020-09-10 09:59:00     8934   \n\n        stop_sequence  pickup_type  drop_off_type  \n504408              1            0              0  \n504409              2            0              0  \n504410              3            0              0  \n504411              4            0              0  \n504412              5            0              0  \n504413              6            0              0  \n504414              7            0              0  \n504415              8            0              0  \n504416              9            0              0  \n504417             10            0              0  \n504418             11            0              0  \n504419             12            0              0  \n504420             13            0              0  \n504421             14            0              0  \n504422             15            0              0  \n504423             16            0              0  \n504424             17            0              0  \n504425             18            0              0  ",
      "text/html": "<div>\n<style scoped>\n    .dataframe tbody tr th:only-of-type {\n        vertical-align: middle;\n    }\n\n    .dataframe tbody tr th {\n        vertical-align: top;\n    }\n\n    .dataframe thead th {\n        text-align: right;\n    }\n</style>\n<table border=\"1\" class=\"dataframe\">\n  <thead>\n    <tr style=\"text-align: right;\">\n      <th></th>\n      <th>trip_id</th>\n      <th>arrival_time</th>\n      <th>departure_time</th>\n      <th>stop_id</th>\n      <th>stop_sequence</th>\n      <th>pickup_type</th>\n      <th>drop_off_type</th>\n    </tr>\n  </thead>\n  <tbody>\n    <tr>\n      <th>504408</th>\n      <td>16723936</td>\n      <td>2020-09-10 09:30:00</td>\n      <td>2020-09-10 09:30:00</td>\n      <td>18915</td>\n      <td>1</td>\n      <td>0</td>\n      <td>0</td>\n    </tr>\n    <tr>\n      <th>504409</th>\n      <td>16723936</td>\n      <td>2020-09-10 09:33:00</td>\n      <td>2020-09-10 09:33:00</td>\n      <td>28886</td>\n      <td>2</td>\n      <td>0</td>\n      <td>0</td>\n    </tr>\n    <tr>\n      <th>504410</th>\n      <td>16723936</td>\n      <td>2020-09-10 09:36:00</td>\n      <td>2020-09-10 09:36:00</td>\n      <td>30879</td>\n      <td>3</td>\n      <td>0</td>\n      <td>0</td>\n    </tr>\n    <tr>\n      <th>504411</th>\n      <td>16723936</td>\n      <td>2020-09-10 09:39:00</td>\n      <td>2020-09-10 09:39:00</td>\n      <td>28923</td>\n      <td>4</td>\n      <td>0</td>\n      <td>0</td>\n    </tr>\n    <tr>\n      <th>504412</th>\n      <td>16723936</td>\n      <td>2020-09-10 09:41:00</td>\n      <td>2020-09-10 09:41:00</td>\n      <td>10960</td>\n      <td>5</td>\n      <td>0</td>\n      <td>0</td>\n    </tr>\n    <tr>\n      <th>504413</th>\n      <td>16723936</td>\n      <td>2020-09-10 09:43:00</td>\n      <td>2020-09-10 09:43:00</td>\n      <td>10962</td>\n      <td>6</td>\n      <td>0</td>\n      <td>0</td>\n    </tr>\n    <tr>\n      <th>504414</th>\n      <td>16723936</td>\n      <td>2020-09-10 09:45:00</td>\n      <td>2020-09-10 09:45:00</td>\n      <td>10963</td>\n      <td>7</td>\n      <td>0</td>\n      <td>0</td>\n    </tr>\n    <tr>\n      <th>504415</th>\n      <td>16723936</td>\n      <td>2020-09-10 09:46:00</td>\n      <td>2020-09-10 09:46:00</td>\n      <td>10954</td>\n      <td>8</td>\n      <td>0</td>\n      <td>0</td>\n    </tr>\n    <tr>\n      <th>504416</th>\n      <td>16723936</td>\n      <td>2020-09-10 09:48:00</td>\n      <td>2020-09-10 09:48:00</td>\n      <td>10937</td>\n      <td>9</td>\n      <td>0</td>\n      <td>0</td>\n    </tr>\n    <tr>\n      <th>504417</th>\n      <td>16723936</td>\n      <td>2020-09-10 09:49:00</td>\n      <td>2020-09-10 09:49:00</td>\n      <td>10936</td>\n      <td>10</td>\n      <td>0</td>\n      <td>0</td>\n    </tr>\n    <tr>\n      <th>504418</th>\n      <td>16723936</td>\n      <td>2020-09-10 09:50:00</td>\n      <td>2020-09-10 09:50:00</td>\n      <td>8905</td>\n      <td>11</td>\n      <td>0</td>\n      <td>0</td>\n    </tr>\n    <tr>\n      <th>504419</th>\n      <td>16723936</td>\n      <td>2020-09-10 09:51:00</td>\n      <td>2020-09-10 09:51:00</td>\n      <td>10955</td>\n      <td>12</td>\n      <td>0</td>\n      <td>0</td>\n    </tr>\n    <tr>\n      <th>504420</th>\n      <td>16723936</td>\n      <td>2020-09-10 09:53:00</td>\n      <td>2020-09-10 09:53:00</td>\n      <td>8930</td>\n      <td>13</td>\n      <td>0</td>\n      <td>0</td>\n    </tr>\n    <tr>\n      <th>504421</th>\n      <td>16723936</td>\n      <td>2020-09-10 09:54:00</td>\n      <td>2020-09-10 09:54:00</td>\n      <td>8931</td>\n      <td>14</td>\n      <td>0</td>\n      <td>0</td>\n    </tr>\n    <tr>\n      <th>504422</th>\n      <td>16723936</td>\n      <td>2020-09-10 09:56:00</td>\n      <td>2020-09-10 09:56:00</td>\n      <td>8907</td>\n      <td>15</td>\n      <td>0</td>\n      <td>0</td>\n    </tr>\n    <tr>\n      <th>504423</th>\n      <td>16723936</td>\n      <td>2020-09-10 09:57:00</td>\n      <td>2020-09-10 09:57:00</td>\n      <td>10934</td>\n      <td>16</td>\n      <td>0</td>\n      <td>0</td>\n    </tr>\n    <tr>\n      <th>504424</th>\n      <td>16723936</td>\n      <td>2020-09-10 09:59:00</td>\n      <td>2020-09-10 09:59:00</td>\n      <td>8933</td>\n      <td>17</td>\n      <td>0</td>\n      <td>0</td>\n    </tr>\n    <tr>\n      <th>504425</th>\n      <td>16723936</td>\n      <td>2020-09-10 09:59:00</td>\n      <td>2020-09-10 09:59:00</td>\n      <td>8934</td>\n      <td>18</td>\n      <td>0</td>\n      <td>0</td>\n    </tr>\n  </tbody>\n</table>\n</div>"
     },
     "metadata": {},
     "execution_count": 129
    }
   ],
   "source": [
    "#Make sure that trips are one way\n",
    "clean_trip.loc[clean_trip[\"trip_id\"] == 16723936]"
   ]
  },
  {
   "cell_type": "code",
   "execution_count": 132,
   "metadata": {},
   "outputs": [
    {
     "output_type": "execute_result",
     "data": {
      "text/plain": "                arrival_time                    \n                         min                 max\ntrip_id                                         \n16723936 2020-09-10 09:30:00 2020-09-10 09:59:00\n16723937 2020-09-10 09:52:00 2020-09-10 10:24:00\n16723938 2020-09-10 09:22:00 2020-09-10 09:54:00\n16723939 2020-09-10 21:22:00 2020-09-10 21:54:00\n16723940 2020-09-10 17:05:00 2020-09-10 17:45:00\n...                      ...                 ...\n16811833 2020-09-10 17:40:00 2020-09-10 18:52:00\n16811837 2020-09-10 16:35:00 2020-09-10 17:16:00\n16811838 2020-09-10 18:05:00 2020-09-10 18:46:00\n16811842 2020-09-10 16:40:00 2020-09-10 17:25:00\n16811843 2020-09-10 18:08:00 2020-09-10 18:50:00\n\n[16057 rows x 2 columns]",
      "text/html": "<div>\n<style scoped>\n    .dataframe tbody tr th:only-of-type {\n        vertical-align: middle;\n    }\n\n    .dataframe tbody tr th {\n        vertical-align: top;\n    }\n\n    .dataframe thead tr th {\n        text-align: left;\n    }\n\n    .dataframe thead tr:last-of-type th {\n        text-align: right;\n    }\n</style>\n<table border=\"1\" class=\"dataframe\">\n  <thead>\n    <tr>\n      <th></th>\n      <th colspan=\"2\" halign=\"left\">arrival_time</th>\n    </tr>\n    <tr>\n      <th></th>\n      <th>min</th>\n      <th>max</th>\n    </tr>\n    <tr>\n      <th>trip_id</th>\n      <th></th>\n      <th></th>\n    </tr>\n  </thead>\n  <tbody>\n    <tr>\n      <th>16723936</th>\n      <td>2020-09-10 09:30:00</td>\n      <td>2020-09-10 09:59:00</td>\n    </tr>\n    <tr>\n      <th>16723937</th>\n      <td>2020-09-10 09:52:00</td>\n      <td>2020-09-10 10:24:00</td>\n    </tr>\n    <tr>\n      <th>16723938</th>\n      <td>2020-09-10 09:22:00</td>\n      <td>2020-09-10 09:54:00</td>\n    </tr>\n    <tr>\n      <th>16723939</th>\n      <td>2020-09-10 21:22:00</td>\n      <td>2020-09-10 21:54:00</td>\n    </tr>\n    <tr>\n      <th>16723940</th>\n      <td>2020-09-10 17:05:00</td>\n      <td>2020-09-10 17:45:00</td>\n    </tr>\n    <tr>\n      <th>...</th>\n      <td>...</td>\n      <td>...</td>\n    </tr>\n    <tr>\n      <th>16811833</th>\n      <td>2020-09-10 17:40:00</td>\n      <td>2020-09-10 18:52:00</td>\n    </tr>\n    <tr>\n      <th>16811837</th>\n      <td>2020-09-10 16:35:00</td>\n      <td>2020-09-10 17:16:00</td>\n    </tr>\n    <tr>\n      <th>16811838</th>\n      <td>2020-09-10 18:05:00</td>\n      <td>2020-09-10 18:46:00</td>\n    </tr>\n    <tr>\n      <th>16811842</th>\n      <td>2020-09-10 16:40:00</td>\n      <td>2020-09-10 17:25:00</td>\n    </tr>\n    <tr>\n      <th>16811843</th>\n      <td>2020-09-10 18:08:00</td>\n      <td>2020-09-10 18:50:00</td>\n    </tr>\n  </tbody>\n</table>\n<p>16057 rows × 2 columns</p>\n</div>"
     },
     "metadata": {},
     "execution_count": 132
    }
   ],
   "source": [
    "trip_group.reset_index(inplace=True)\n",
    "#trip_group.head()\n",
    "\n",
    "min_trips = clean_trip.groupby([\"trip_id\"]).agg({\"arrival_time\":[\"min\",\"max\"]})\n",
    "min_trips"
   ]
  },
  {
   "cell_type": "code",
   "execution_count": 139,
   "metadata": {},
   "outputs": [
    {
     "output_type": "execute_result",
     "data": {
      "text/plain": "                arrival_time                     duration\n                         min                 max         \ntrip_id                                                  \n16723936 2020-09-10 09:30:00 2020-09-10 09:59:00 00:29:00\n16723937 2020-09-10 09:52:00 2020-09-10 10:24:00 00:32:00\n16723938 2020-09-10 09:22:00 2020-09-10 09:54:00 00:32:00\n16723939 2020-09-10 21:22:00 2020-09-10 21:54:00 00:32:00\n16723940 2020-09-10 17:05:00 2020-09-10 17:45:00 00:40:00\n...                      ...                 ...      ...\n16811833 2020-09-10 17:40:00 2020-09-10 18:52:00 01:12:00\n16811837 2020-09-10 16:35:00 2020-09-10 17:16:00 00:41:00\n16811838 2020-09-10 18:05:00 2020-09-10 18:46:00 00:41:00\n16811842 2020-09-10 16:40:00 2020-09-10 17:25:00 00:45:00\n16811843 2020-09-10 18:08:00 2020-09-10 18:50:00 00:42:00\n\n[16057 rows x 3 columns]",
      "text/html": "<div>\n<style scoped>\n    .dataframe tbody tr th:only-of-type {\n        vertical-align: middle;\n    }\n\n    .dataframe tbody tr th {\n        vertical-align: top;\n    }\n\n    .dataframe thead tr th {\n        text-align: left;\n    }\n\n    .dataframe thead tr:last-of-type th {\n        text-align: right;\n    }\n</style>\n<table border=\"1\" class=\"dataframe\">\n  <thead>\n    <tr>\n      <th></th>\n      <th colspan=\"2\" halign=\"left\">arrival_time</th>\n      <th>duration</th>\n    </tr>\n    <tr>\n      <th></th>\n      <th>min</th>\n      <th>max</th>\n      <th></th>\n    </tr>\n    <tr>\n      <th>trip_id</th>\n      <th></th>\n      <th></th>\n      <th></th>\n    </tr>\n  </thead>\n  <tbody>\n    <tr>\n      <th>16723936</th>\n      <td>2020-09-10 09:30:00</td>\n      <td>2020-09-10 09:59:00</td>\n      <td>00:29:00</td>\n    </tr>\n    <tr>\n      <th>16723937</th>\n      <td>2020-09-10 09:52:00</td>\n      <td>2020-09-10 10:24:00</td>\n      <td>00:32:00</td>\n    </tr>\n    <tr>\n      <th>16723938</th>\n      <td>2020-09-10 09:22:00</td>\n      <td>2020-09-10 09:54:00</td>\n      <td>00:32:00</td>\n    </tr>\n    <tr>\n      <th>16723939</th>\n      <td>2020-09-10 21:22:00</td>\n      <td>2020-09-10 21:54:00</td>\n      <td>00:32:00</td>\n    </tr>\n    <tr>\n      <th>16723940</th>\n      <td>2020-09-10 17:05:00</td>\n      <td>2020-09-10 17:45:00</td>\n      <td>00:40:00</td>\n    </tr>\n    <tr>\n      <th>...</th>\n      <td>...</td>\n      <td>...</td>\n      <td>...</td>\n    </tr>\n    <tr>\n      <th>16811833</th>\n      <td>2020-09-10 17:40:00</td>\n      <td>2020-09-10 18:52:00</td>\n      <td>01:12:00</td>\n    </tr>\n    <tr>\n      <th>16811837</th>\n      <td>2020-09-10 16:35:00</td>\n      <td>2020-09-10 17:16:00</td>\n      <td>00:41:00</td>\n    </tr>\n    <tr>\n      <th>16811838</th>\n      <td>2020-09-10 18:05:00</td>\n      <td>2020-09-10 18:46:00</td>\n      <td>00:41:00</td>\n    </tr>\n    <tr>\n      <th>16811842</th>\n      <td>2020-09-10 16:40:00</td>\n      <td>2020-09-10 17:25:00</td>\n      <td>00:45:00</td>\n    </tr>\n    <tr>\n      <th>16811843</th>\n      <td>2020-09-10 18:08:00</td>\n      <td>2020-09-10 18:50:00</td>\n      <td>00:42:00</td>\n    </tr>\n  </tbody>\n</table>\n<p>16057 rows × 3 columns</p>\n</div>"
     },
     "metadata": {},
     "execution_count": 139
    }
   ],
   "source": [
    "min_trips[\"duration\"] = min_trips[\"arrival_time\"][\"max\"] - min_trips[\"arrival_time\"][\"min\"]\n",
    "\n",
    "min_trips"
   ]
  },
  {
   "cell_type": "code",
   "execution_count": null,
   "metadata": {},
   "outputs": [],
   "source": []
  }
 ]
}