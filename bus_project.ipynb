{
 "metadata": {
  "language_info": {
   "codemirror_mode": {
    "name": "ipython",
    "version": 3
   },
   "file_extension": ".py",
   "mimetype": "text/x-python",
   "name": "python",
   "nbconvert_exporter": "python",
   "pygments_lexer": "ipython3",
   "version": "3.6.10-final"
  },
  "orig_nbformat": 2,
  "kernelspec": {
   "name": "python_defaultSpec_1598799939502",
   "display_name": "Python 3.6.10 64-bit ('PythonData': conda)"
  }
 },
 "nbformat": 4,
 "nbformat_minor": 2,
 "cells": [
  {
   "cell_type": "code",
   "execution_count": 2,
   "metadata": {},
   "outputs": [],
   "source": [
    "#Dependencies\n",
    "import gmaps\n",
    "import numpy as np\n",
    "import pandas as pd\n",
    "import matplotlib.pyplot as plt\n",
    "import requests\n",
    "from scipy.stats import linregress\n",
    "\n",
    "# Google developer API key\n",
    "from config import gkey\n",
    "\n",
    "# Access maps with unique API key\n",
    "gmaps.configure(api_key=gkey)"
   ]
  },
  {
   "cell_type": "code",
   "execution_count": 5,
   "metadata": {},
   "outputs": [
    {
     "output_type": "execute_result",
     "data": {
      "text/plain": "   stop_id  stop_code                        stop_name  stop_desc   stop_lat  \\\n0      1.0        NaN           COLUMBUS ST & BROADWAY        NaN  41.392985   \n1      2.0        NaN  10800 BROOKPARK RD (HOME DEPOT)        NaN  41.418571   \n2      4.0        NaN           EUCLID AV & E 100TH ST        NaN  41.503697   \n3      5.0        NaN             10081 W RIDGEWOOD DR        NaN  41.384506   \n4     14.0        NaN         PROSPECT AV & ONTARIO ST        NaN  41.498030   \n\n    stop_lon  zone_id  stop_url  location_type parent_station  \n0 -81.536518      NaN       NaN              0            NaN  \n1 -81.760947      NaN       NaN              0            NaN  \n2 -81.618108      NaN       NaN              0            NaN  \n3 -81.756317      NaN       NaN              0            NaN  \n4 -81.692012      NaN       NaN              0            NaN  ",
      "text/html": "<div>\n<style scoped>\n    .dataframe tbody tr th:only-of-type {\n        vertical-align: middle;\n    }\n\n    .dataframe tbody tr th {\n        vertical-align: top;\n    }\n\n    .dataframe thead th {\n        text-align: right;\n    }\n</style>\n<table border=\"1\" class=\"dataframe\">\n  <thead>\n    <tr style=\"text-align: right;\">\n      <th></th>\n      <th>stop_id</th>\n      <th>stop_code</th>\n      <th>stop_name</th>\n      <th>stop_desc</th>\n      <th>stop_lat</th>\n      <th>stop_lon</th>\n      <th>zone_id</th>\n      <th>stop_url</th>\n      <th>location_type</th>\n      <th>parent_station</th>\n    </tr>\n  </thead>\n  <tbody>\n    <tr>\n      <th>0</th>\n      <td>1.0</td>\n      <td>NaN</td>\n      <td>COLUMBUS ST &amp; BROADWAY</td>\n      <td>NaN</td>\n      <td>41.392985</td>\n      <td>-81.536518</td>\n      <td>NaN</td>\n      <td>NaN</td>\n      <td>0</td>\n      <td>NaN</td>\n    </tr>\n    <tr>\n      <th>1</th>\n      <td>2.0</td>\n      <td>NaN</td>\n      <td>10800 BROOKPARK RD (HOME DEPOT)</td>\n      <td>NaN</td>\n      <td>41.418571</td>\n      <td>-81.760947</td>\n      <td>NaN</td>\n      <td>NaN</td>\n      <td>0</td>\n      <td>NaN</td>\n    </tr>\n    <tr>\n      <th>2</th>\n      <td>4.0</td>\n      <td>NaN</td>\n      <td>EUCLID AV &amp; E 100TH ST</td>\n      <td>NaN</td>\n      <td>41.503697</td>\n      <td>-81.618108</td>\n      <td>NaN</td>\n      <td>NaN</td>\n      <td>0</td>\n      <td>NaN</td>\n    </tr>\n    <tr>\n      <th>3</th>\n      <td>5.0</td>\n      <td>NaN</td>\n      <td>10081 W RIDGEWOOD DR</td>\n      <td>NaN</td>\n      <td>41.384506</td>\n      <td>-81.756317</td>\n      <td>NaN</td>\n      <td>NaN</td>\n      <td>0</td>\n      <td>NaN</td>\n    </tr>\n    <tr>\n      <th>4</th>\n      <td>14.0</td>\n      <td>NaN</td>\n      <td>PROSPECT AV &amp; ONTARIO ST</td>\n      <td>NaN</td>\n      <td>41.498030</td>\n      <td>-81.692012</td>\n      <td>NaN</td>\n      <td>NaN</td>\n      <td>0</td>\n      <td>NaN</td>\n    </tr>\n  </tbody>\n</table>\n</div>"
     },
     "metadata": {},
     "execution_count": 5
    }
   ],
   "source": [
    "# The path to our bus stop locations CSV file\n",
    "locations_file = \"Resources/stops.csv\"\n",
    "\n",
    "# Read our file data into pandas\n",
    "locations_df = pd.read_csv(locations_file)\n",
    "locations_df.head()"
   ]
  },
  {
   "cell_type": "code",
   "execution_count": 17,
   "metadata": {},
   "outputs": [
    {
     "output_type": "execute_result",
     "data": {
      "text/plain": "    trip_id arrival_time departure_time  stop_id  stop_sequence  pickup_type  \\\n0  16741667   3:21:00 AM     3:21:00 AM    14507              1            0   \n1  16741667   3:22:00 AM     3:22:00 AM     4568              2            0   \n2  16741667   3:23:00 AM     3:23:00 AM     4522              3            0   \n3  16741667   3:24:00 AM     3:24:00 AM     4378              4            0   \n4  16741667   3:25:00 AM     3:25:00 AM     4556              5            0   \n\n   drop_off_type  \n0              0  \n1              0  \n2              0  \n3              0  \n4              0  ",
      "text/html": "<div>\n<style scoped>\n    .dataframe tbody tr th:only-of-type {\n        vertical-align: middle;\n    }\n\n    .dataframe tbody tr th {\n        vertical-align: top;\n    }\n\n    .dataframe thead th {\n        text-align: right;\n    }\n</style>\n<table border=\"1\" class=\"dataframe\">\n  <thead>\n    <tr style=\"text-align: right;\">\n      <th></th>\n      <th>trip_id</th>\n      <th>arrival_time</th>\n      <th>departure_time</th>\n      <th>stop_id</th>\n      <th>stop_sequence</th>\n      <th>pickup_type</th>\n      <th>drop_off_type</th>\n    </tr>\n  </thead>\n  <tbody>\n    <tr>\n      <th>0</th>\n      <td>16741667</td>\n      <td>3:21:00 AM</td>\n      <td>3:21:00 AM</td>\n      <td>14507</td>\n      <td>1</td>\n      <td>0</td>\n      <td>0</td>\n    </tr>\n    <tr>\n      <th>1</th>\n      <td>16741667</td>\n      <td>3:22:00 AM</td>\n      <td>3:22:00 AM</td>\n      <td>4568</td>\n      <td>2</td>\n      <td>0</td>\n      <td>0</td>\n    </tr>\n    <tr>\n      <th>2</th>\n      <td>16741667</td>\n      <td>3:23:00 AM</td>\n      <td>3:23:00 AM</td>\n      <td>4522</td>\n      <td>3</td>\n      <td>0</td>\n      <td>0</td>\n    </tr>\n    <tr>\n      <th>3</th>\n      <td>16741667</td>\n      <td>3:24:00 AM</td>\n      <td>3:24:00 AM</td>\n      <td>4378</td>\n      <td>4</td>\n      <td>0</td>\n      <td>0</td>\n    </tr>\n    <tr>\n      <th>4</th>\n      <td>16741667</td>\n      <td>3:25:00 AM</td>\n      <td>3:25:00 AM</td>\n      <td>4556</td>\n      <td>5</td>\n      <td>0</td>\n      <td>0</td>\n    </tr>\n  </tbody>\n</table>\n</div>"
     },
     "metadata": {},
     "execution_count": 17
    }
   ],
   "source": [
    "# The path to our bus stop times CSV file\n",
    "stops_file = \"Resources/stop_times.csv\"\n",
    "\n",
    "# Read our file data into pandas\n",
    "stops_df = pd.read_csv(stops_file)\n",
    "stops_df.head()"
   ]
  },
  {
   "cell_type": "code",
   "execution_count": 7,
   "metadata": {},
   "outputs": [
    {
     "output_type": "execute_result",
     "data": {
      "text/plain": "   stop_id  stop_code               stop_name  stop_desc   stop_lat  \\\n0      1.0        NaN  COLUMBUS ST & BROADWAY        NaN  41.392985   \n1      1.0        NaN  COLUMBUS ST & BROADWAY        NaN  41.392985   \n2      1.0        NaN  COLUMBUS ST & BROADWAY        NaN  41.392985   \n3      1.0        NaN  COLUMBUS ST & BROADWAY        NaN  41.392985   \n4      1.0        NaN  COLUMBUS ST & BROADWAY        NaN  41.392985   \n\n    stop_lon  zone_id  stop_url  location_type parent_station   trip_id  \\\n0 -81.536518      NaN       NaN              0            NaN  16741990   \n1 -81.536518      NaN       NaN              0            NaN  16741993   \n2 -81.536518      NaN       NaN              0            NaN  16741995   \n3 -81.536518      NaN       NaN              0            NaN  16741997   \n4 -81.536518      NaN       NaN              0            NaN  16741999   \n\n  arrival_time departure_time  stop_sequence  pickup_type  drop_off_type  \n0   5:54:00 AM     5:54:00 AM             82            0              0  \n1   6:54:00 AM     6:54:00 AM             82            0              0  \n2   7:25:00 AM     7:25:00 AM             82            0              0  \n3   7:57:00 AM     7:57:00 AM             82            0              0  \n4   8:28:00 AM     8:28:00 AM             82            0              0  ",
      "text/html": "<div>\n<style scoped>\n    .dataframe tbody tr th:only-of-type {\n        vertical-align: middle;\n    }\n\n    .dataframe tbody tr th {\n        vertical-align: top;\n    }\n\n    .dataframe thead th {\n        text-align: right;\n    }\n</style>\n<table border=\"1\" class=\"dataframe\">\n  <thead>\n    <tr style=\"text-align: right;\">\n      <th></th>\n      <th>stop_id</th>\n      <th>stop_code</th>\n      <th>stop_name</th>\n      <th>stop_desc</th>\n      <th>stop_lat</th>\n      <th>stop_lon</th>\n      <th>zone_id</th>\n      <th>stop_url</th>\n      <th>location_type</th>\n      <th>parent_station</th>\n      <th>trip_id</th>\n      <th>arrival_time</th>\n      <th>departure_time</th>\n      <th>stop_sequence</th>\n      <th>pickup_type</th>\n      <th>drop_off_type</th>\n    </tr>\n  </thead>\n  <tbody>\n    <tr>\n      <th>0</th>\n      <td>1.0</td>\n      <td>NaN</td>\n      <td>COLUMBUS ST &amp; BROADWAY</td>\n      <td>NaN</td>\n      <td>41.392985</td>\n      <td>-81.536518</td>\n      <td>NaN</td>\n      <td>NaN</td>\n      <td>0</td>\n      <td>NaN</td>\n      <td>16741990</td>\n      <td>5:54:00 AM</td>\n      <td>5:54:00 AM</td>\n      <td>82</td>\n      <td>0</td>\n      <td>0</td>\n    </tr>\n    <tr>\n      <th>1</th>\n      <td>1.0</td>\n      <td>NaN</td>\n      <td>COLUMBUS ST &amp; BROADWAY</td>\n      <td>NaN</td>\n      <td>41.392985</td>\n      <td>-81.536518</td>\n      <td>NaN</td>\n      <td>NaN</td>\n      <td>0</td>\n      <td>NaN</td>\n      <td>16741993</td>\n      <td>6:54:00 AM</td>\n      <td>6:54:00 AM</td>\n      <td>82</td>\n      <td>0</td>\n      <td>0</td>\n    </tr>\n    <tr>\n      <th>2</th>\n      <td>1.0</td>\n      <td>NaN</td>\n      <td>COLUMBUS ST &amp; BROADWAY</td>\n      <td>NaN</td>\n      <td>41.392985</td>\n      <td>-81.536518</td>\n      <td>NaN</td>\n      <td>NaN</td>\n      <td>0</td>\n      <td>NaN</td>\n      <td>16741995</td>\n      <td>7:25:00 AM</td>\n      <td>7:25:00 AM</td>\n      <td>82</td>\n      <td>0</td>\n      <td>0</td>\n    </tr>\n    <tr>\n      <th>3</th>\n      <td>1.0</td>\n      <td>NaN</td>\n      <td>COLUMBUS ST &amp; BROADWAY</td>\n      <td>NaN</td>\n      <td>41.392985</td>\n      <td>-81.536518</td>\n      <td>NaN</td>\n      <td>NaN</td>\n      <td>0</td>\n      <td>NaN</td>\n      <td>16741997</td>\n      <td>7:57:00 AM</td>\n      <td>7:57:00 AM</td>\n      <td>82</td>\n      <td>0</td>\n      <td>0</td>\n    </tr>\n    <tr>\n      <th>4</th>\n      <td>1.0</td>\n      <td>NaN</td>\n      <td>COLUMBUS ST &amp; BROADWAY</td>\n      <td>NaN</td>\n      <td>41.392985</td>\n      <td>-81.536518</td>\n      <td>NaN</td>\n      <td>NaN</td>\n      <td>0</td>\n      <td>NaN</td>\n      <td>16741999</td>\n      <td>8:28:00 AM</td>\n      <td>8:28:00 AM</td>\n      <td>82</td>\n      <td>0</td>\n      <td>0</td>\n    </tr>\n  </tbody>\n</table>\n</div>"
     },
     "metadata": {},
     "execution_count": 7
    }
   ],
   "source": [
    "# merge\n",
    "bus_data = pd.merge(locations_df, stops_df, on=[\"stop_id\", \"stop_id\"])\n",
    "bus_data.head()"
   ]
  },
  {
   "cell_type": "code",
   "execution_count": 8,
   "metadata": {},
   "outputs": [
    {
     "output_type": "execute_result",
     "data": {
      "text/plain": "stop_id  stop_lat   stop_lon  \n1.0      41.392985  -81.536518     63\n2.0      41.418571  -81.760947     72\n4.0      41.503697  -81.618108    241\n5.0      41.384506  -81.756317    108\n14.0     41.498030  -81.692012    370\n                                 ... \n50001.0  41.500290  -81.691917    492\n60001.0  41.500764  -81.682781    172\n60002.0  41.500256  -81.686436    166\n60003.0  41.499918  -81.688906    166\n60004.0  41.499515  -81.691994    161\nName: arrival_time, Length: 5799, dtype: int64"
     },
     "metadata": {},
     "execution_count": 8
    }
   ],
   "source": [
    "#groupby stop id to see how many stops \n",
    "numberstops = bus_data.groupby(['stop_id', 'stop_lat', 'stop_lon'])['arrival_time'].nunique()\n",
    "numberstops"
   ]
  },
  {
   "cell_type": "code",
   "execution_count": 9,
   "metadata": {},
   "outputs": [],
   "source": [
    "# merge stops with lat and long\n"
   ]
  },
  {
   "cell_type": "code",
   "execution_count": 10,
   "metadata": {},
   "outputs": [],
   "source": [
    "# Store lat and long\n",
    "locations = locations_df[['stop_lat','stop_lon']]"
   ]
  },
  {
   "cell_type": "code",
   "execution_count": 11,
   "metadata": {},
   "outputs": [
    {
     "output_type": "display_data",
     "data": {
      "text/plain": "Figure(layout=FigureLayout(height='420px'))",
      "application/vnd.jupyter.widget-view+json": {
       "version_major": 2,
       "version_minor": 0,
       "model_id": "0d493e85fcd84801ade10cfb06998af5"
      }
     },
     "metadata": {}
    }
   ],
   "source": [
    "# Plot Heatmap\n",
    "fig_heat = gmaps.figure()\n",
    "heat_layer = gmaps.heatmap_layer(locations, dissipating=False, max_intensity=2, point_radius=.0025)\n",
    "fig_heat.add_layer(heat_layer)\n",
    "fig_heat"
   ]
  },
  {
   "cell_type": "code",
   "execution_count": 12,
   "metadata": {},
   "outputs": [
    {
     "output_type": "display_data",
     "data": {
      "text/plain": "Figure(layout=FigureLayout(height='420px'))",
      "application/vnd.jupyter.widget-view+json": {
       "version_major": 2,
       "version_minor": 0,
       "model_id": "6854ccbe3b0f405aad1247f4ad0fdc08"
      }
     },
     "metadata": {}
    }
   ],
   "source": [
    "# plot locations\n",
    "fig_mark = gmaps.figure()\n",
    "# Assign the marker layer to a variable\n",
    "markers = gmaps.marker_layer(locations)\n",
    "# Add the layer to the map\n",
    "fig_mark.add_layer(markers)\n",
    "fig_mark"
   ]
  },
  {
   "cell_type": "code",
   "execution_count": null,
   "metadata": {},
   "outputs": [],
   "source": []
  }
 ]
}