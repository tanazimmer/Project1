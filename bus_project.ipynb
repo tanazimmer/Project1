{
 "cells": [
  {
   "cell_type": "code",
   "execution_count": 1,
   "metadata": {},
   "outputs": [
    {
     "output_type": "error",
     "ename": "ImportError",
     "evalue": "DLL load failed: The specified module could not be found.",
     "traceback": [
      "\u001b[1;31m---------------------------------------------------------------------------\u001b[0m",
      "\u001b[1;31mImportError\u001b[0m                               Traceback (most recent call last)",
      "\u001b[1;32m<ipython-input-1-51e951f333fa>\u001b[0m in \u001b[0;36m<module>\u001b[1;34m\u001b[0m\n\u001b[0;32m      3\u001b[0m \u001b[1;32mimport\u001b[0m \u001b[0mnumpy\u001b[0m \u001b[1;32mas\u001b[0m \u001b[0mnp\u001b[0m\u001b[1;33m\u001b[0m\u001b[1;33m\u001b[0m\u001b[0m\n\u001b[0;32m      4\u001b[0m \u001b[1;32mimport\u001b[0m \u001b[0mpandas\u001b[0m \u001b[1;32mas\u001b[0m \u001b[0mpd\u001b[0m\u001b[1;33m\u001b[0m\u001b[1;33m\u001b[0m\u001b[0m\n\u001b[1;32m----> 5\u001b[1;33m \u001b[1;32mimport\u001b[0m \u001b[0mmatplotlib\u001b[0m\u001b[1;33m.\u001b[0m\u001b[0mpyplot\u001b[0m \u001b[1;32mas\u001b[0m \u001b[0mplt\u001b[0m\u001b[1;33m\u001b[0m\u001b[1;33m\u001b[0m\u001b[0m\n\u001b[0m\u001b[0;32m      6\u001b[0m \u001b[1;32mimport\u001b[0m \u001b[0mrequests\u001b[0m\u001b[1;33m\u001b[0m\u001b[1;33m\u001b[0m\u001b[0m\n\u001b[0;32m      7\u001b[0m \u001b[1;32mfrom\u001b[0m \u001b[0mscipy\u001b[0m\u001b[1;33m.\u001b[0m\u001b[0mstats\u001b[0m \u001b[1;32mimport\u001b[0m \u001b[0mlinregress\u001b[0m\u001b[1;33m\u001b[0m\u001b[1;33m\u001b[0m\u001b[0m\n",
      "\u001b[1;32m~\\anaconda3\\lib\\site-packages\\matplotlib\\__init__.py\u001b[0m in \u001b[0;36m<module>\u001b[1;34m\u001b[0m\n\u001b[0;32m    172\u001b[0m \u001b[1;33m\u001b[0m\u001b[0m\n\u001b[0;32m    173\u001b[0m \u001b[1;33m\u001b[0m\u001b[0m\n\u001b[1;32m--> 174\u001b[1;33m \u001b[0m_check_versions\u001b[0m\u001b[1;33m(\u001b[0m\u001b[1;33m)\u001b[0m\u001b[1;33m\u001b[0m\u001b[1;33m\u001b[0m\u001b[0m\n\u001b[0m\u001b[0;32m    175\u001b[0m \u001b[1;33m\u001b[0m\u001b[0m\n\u001b[0;32m    176\u001b[0m \u001b[1;33m\u001b[0m\u001b[0m\n",
      "\u001b[1;32m~\\anaconda3\\lib\\site-packages\\matplotlib\\__init__.py\u001b[0m in \u001b[0;36m_check_versions\u001b[1;34m()\u001b[0m\n\u001b[0;32m    157\u001b[0m     \u001b[1;31m# Quickfix to ensure Microsoft Visual C++ redistributable\u001b[0m\u001b[1;33m\u001b[0m\u001b[1;33m\u001b[0m\u001b[1;33m\u001b[0m\u001b[0m\n\u001b[0;32m    158\u001b[0m     \u001b[1;31m# DLLs are loaded before importing kiwisolver\u001b[0m\u001b[1;33m\u001b[0m\u001b[1;33m\u001b[0m\u001b[1;33m\u001b[0m\u001b[0m\n\u001b[1;32m--> 159\u001b[1;33m     \u001b[1;32mfrom\u001b[0m \u001b[1;33m.\u001b[0m \u001b[1;32mimport\u001b[0m \u001b[0mft2font\u001b[0m\u001b[1;33m\u001b[0m\u001b[1;33m\u001b[0m\u001b[0m\n\u001b[0m\u001b[0;32m    160\u001b[0m \u001b[1;33m\u001b[0m\u001b[0m\n\u001b[0;32m    161\u001b[0m     for modname, minver in [\n",
      "\u001b[1;31mImportError\u001b[0m: DLL load failed: The specified module could not be found."
     ]
    }
   ],
   "source": [
    "#Dependencies\n",
    "import gmaps\n",
    "import numpy as np\n",
    "import pandas as pd\n",
    "import matplotlib.pyplot as plt\n",
    "import requests\n",
    "from scipy.stats import linregress\n",
    "import json\n",
    "\n",
    "# Google developer API key\n",
    "from config import gkey\n",
    "\n",
    "# Access maps with unique API key\n",
    "gmaps.configure(api_key=gkey)"
   ]
  },
  {
   "cell_type": "code",
   "execution_count": 2,
   "metadata": {},
   "outputs": [
    {
     "output_type": "execute_result",
     "data": {
      "text/plain": "   stop_id  stop_code                        stop_name  stop_desc   stop_lat  \\\n0      1.0        NaN           COLUMBUS ST & BROADWAY        NaN  41.392985   \n1      2.0        NaN  10800 BROOKPARK RD (HOME DEPOT)        NaN  41.418571   \n2      4.0        NaN           EUCLID AV & E 100TH ST        NaN  41.503697   \n3      5.0        NaN             10081 W RIDGEWOOD DR        NaN  41.384506   \n4     14.0        NaN         PROSPECT AV & ONTARIO ST        NaN  41.498030   \n\n    stop_lon  zone_id  stop_url  location_type parent_station  \n0 -81.536518      NaN       NaN              0            NaN  \n1 -81.760947      NaN       NaN              0            NaN  \n2 -81.618108      NaN       NaN              0            NaN  \n3 -81.756317      NaN       NaN              0            NaN  \n4 -81.692012      NaN       NaN              0            NaN  ",
      "text/html": "<div>\n<style scoped>\n    .dataframe tbody tr th:only-of-type {\n        vertical-align: middle;\n    }\n\n    .dataframe tbody tr th {\n        vertical-align: top;\n    }\n\n    .dataframe thead th {\n        text-align: right;\n    }\n</style>\n<table border=\"1\" class=\"dataframe\">\n  <thead>\n    <tr style=\"text-align: right;\">\n      <th></th>\n      <th>stop_id</th>\n      <th>stop_code</th>\n      <th>stop_name</th>\n      <th>stop_desc</th>\n      <th>stop_lat</th>\n      <th>stop_lon</th>\n      <th>zone_id</th>\n      <th>stop_url</th>\n      <th>location_type</th>\n      <th>parent_station</th>\n    </tr>\n  </thead>\n  <tbody>\n    <tr>\n      <th>0</th>\n      <td>1.0</td>\n      <td>NaN</td>\n      <td>COLUMBUS ST &amp; BROADWAY</td>\n      <td>NaN</td>\n      <td>41.392985</td>\n      <td>-81.536518</td>\n      <td>NaN</td>\n      <td>NaN</td>\n      <td>0</td>\n      <td>NaN</td>\n    </tr>\n    <tr>\n      <th>1</th>\n      <td>2.0</td>\n      <td>NaN</td>\n      <td>10800 BROOKPARK RD (HOME DEPOT)</td>\n      <td>NaN</td>\n      <td>41.418571</td>\n      <td>-81.760947</td>\n      <td>NaN</td>\n      <td>NaN</td>\n      <td>0</td>\n      <td>NaN</td>\n    </tr>\n    <tr>\n      <th>2</th>\n      <td>4.0</td>\n      <td>NaN</td>\n      <td>EUCLID AV &amp; E 100TH ST</td>\n      <td>NaN</td>\n      <td>41.503697</td>\n      <td>-81.618108</td>\n      <td>NaN</td>\n      <td>NaN</td>\n      <td>0</td>\n      <td>NaN</td>\n    </tr>\n    <tr>\n      <th>3</th>\n      <td>5.0</td>\n      <td>NaN</td>\n      <td>10081 W RIDGEWOOD DR</td>\n      <td>NaN</td>\n      <td>41.384506</td>\n      <td>-81.756317</td>\n      <td>NaN</td>\n      <td>NaN</td>\n      <td>0</td>\n      <td>NaN</td>\n    </tr>\n    <tr>\n      <th>4</th>\n      <td>14.0</td>\n      <td>NaN</td>\n      <td>PROSPECT AV &amp; ONTARIO ST</td>\n      <td>NaN</td>\n      <td>41.498030</td>\n      <td>-81.692012</td>\n      <td>NaN</td>\n      <td>NaN</td>\n      <td>0</td>\n      <td>NaN</td>\n    </tr>\n  </tbody>\n</table>\n</div>"
     },
     "metadata": {},
     "execution_count": 2
    }
   ],
   "source": [
    "# The path to our bus stop locations CSV file\n",
    "locations_file = \"Resources/stops.csv\"\n",
    "\n",
    "# Read our file data into pandas\n",
    "locations_df = pd.read_csv(locations_file)\n",
    "locations_df.head()"
   ]
  },
  {
   "cell_type": "code",
   "execution_count": 3,
   "metadata": {},
   "outputs": [
    {
     "output_type": "execute_result",
     "data": {
      "text/plain": "    trip_id arrival_time departure_time  stop_id  stop_sequence  pickup_type  \\\n0  16741667   3:21:00 AM     3:21:00 AM    14507              1            0   \n1  16741667   3:22:00 AM     3:22:00 AM     4568              2            0   \n2  16741667   3:23:00 AM     3:23:00 AM     4522              3            0   \n3  16741667   3:24:00 AM     3:24:00 AM     4378              4            0   \n4  16741667   3:25:00 AM     3:25:00 AM     4556              5            0   \n\n   drop_off_type  \n0              0  \n1              0  \n2              0  \n3              0  \n4              0  ",
      "text/html": "<div>\n<style scoped>\n    .dataframe tbody tr th:only-of-type {\n        vertical-align: middle;\n    }\n\n    .dataframe tbody tr th {\n        vertical-align: top;\n    }\n\n    .dataframe thead th {\n        text-align: right;\n    }\n</style>\n<table border=\"1\" class=\"dataframe\">\n  <thead>\n    <tr style=\"text-align: right;\">\n      <th></th>\n      <th>trip_id</th>\n      <th>arrival_time</th>\n      <th>departure_time</th>\n      <th>stop_id</th>\n      <th>stop_sequence</th>\n      <th>pickup_type</th>\n      <th>drop_off_type</th>\n    </tr>\n  </thead>\n  <tbody>\n    <tr>\n      <th>0</th>\n      <td>16741667</td>\n      <td>3:21:00 AM</td>\n      <td>3:21:00 AM</td>\n      <td>14507</td>\n      <td>1</td>\n      <td>0</td>\n      <td>0</td>\n    </tr>\n    <tr>\n      <th>1</th>\n      <td>16741667</td>\n      <td>3:22:00 AM</td>\n      <td>3:22:00 AM</td>\n      <td>4568</td>\n      <td>2</td>\n      <td>0</td>\n      <td>0</td>\n    </tr>\n    <tr>\n      <th>2</th>\n      <td>16741667</td>\n      <td>3:23:00 AM</td>\n      <td>3:23:00 AM</td>\n      <td>4522</td>\n      <td>3</td>\n      <td>0</td>\n      <td>0</td>\n    </tr>\n    <tr>\n      <th>3</th>\n      <td>16741667</td>\n      <td>3:24:00 AM</td>\n      <td>3:24:00 AM</td>\n      <td>4378</td>\n      <td>4</td>\n      <td>0</td>\n      <td>0</td>\n    </tr>\n    <tr>\n      <th>4</th>\n      <td>16741667</td>\n      <td>3:25:00 AM</td>\n      <td>3:25:00 AM</td>\n      <td>4556</td>\n      <td>5</td>\n      <td>0</td>\n      <td>0</td>\n    </tr>\n  </tbody>\n</table>\n</div>"
     },
     "metadata": {},
     "execution_count": 3
    }
   ],
   "source": [
    "# The path to our bus stop times CSV file\n",
    "stops_file = \"Resources/stop_times.csv\"\n",
    "\n",
    "# Read our file data into pandas\n",
    "stops_df = pd.read_csv(stops_file)\n",
    "stops_df.head()"
   ]
  },
  {
   "cell_type": "code",
   "execution_count": 4,
   "metadata": {},
   "outputs": [
    {
     "output_type": "execute_result",
     "data": {
      "text/plain": "   stop_id  stop_code               stop_name  stop_desc   stop_lat  \\\n0      1.0        NaN  COLUMBUS ST & BROADWAY        NaN  41.392985   \n1      1.0        NaN  COLUMBUS ST & BROADWAY        NaN  41.392985   \n2      1.0        NaN  COLUMBUS ST & BROADWAY        NaN  41.392985   \n3      1.0        NaN  COLUMBUS ST & BROADWAY        NaN  41.392985   \n4      1.0        NaN  COLUMBUS ST & BROADWAY        NaN  41.392985   \n\n    stop_lon  zone_id  stop_url  location_type parent_station   trip_id  \\\n0 -81.536518      NaN       NaN              0            NaN  16741990   \n1 -81.536518      NaN       NaN              0            NaN  16741993   \n2 -81.536518      NaN       NaN              0            NaN  16741995   \n3 -81.536518      NaN       NaN              0            NaN  16741997   \n4 -81.536518      NaN       NaN              0            NaN  16741999   \n\n  arrival_time departure_time  stop_sequence  pickup_type  drop_off_type  \n0   5:54:00 AM     5:54:00 AM             82            0              0  \n1   6:54:00 AM     6:54:00 AM             82            0              0  \n2   7:25:00 AM     7:25:00 AM             82            0              0  \n3   7:57:00 AM     7:57:00 AM             82            0              0  \n4   8:28:00 AM     8:28:00 AM             82            0              0  ",
      "text/html": "<div>\n<style scoped>\n    .dataframe tbody tr th:only-of-type {\n        vertical-align: middle;\n    }\n\n    .dataframe tbody tr th {\n        vertical-align: top;\n    }\n\n    .dataframe thead th {\n        text-align: right;\n    }\n</style>\n<table border=\"1\" class=\"dataframe\">\n  <thead>\n    <tr style=\"text-align: right;\">\n      <th></th>\n      <th>stop_id</th>\n      <th>stop_code</th>\n      <th>stop_name</th>\n      <th>stop_desc</th>\n      <th>stop_lat</th>\n      <th>stop_lon</th>\n      <th>zone_id</th>\n      <th>stop_url</th>\n      <th>location_type</th>\n      <th>parent_station</th>\n      <th>trip_id</th>\n      <th>arrival_time</th>\n      <th>departure_time</th>\n      <th>stop_sequence</th>\n      <th>pickup_type</th>\n      <th>drop_off_type</th>\n    </tr>\n  </thead>\n  <tbody>\n    <tr>\n      <th>0</th>\n      <td>1.0</td>\n      <td>NaN</td>\n      <td>COLUMBUS ST &amp; BROADWAY</td>\n      <td>NaN</td>\n      <td>41.392985</td>\n      <td>-81.536518</td>\n      <td>NaN</td>\n      <td>NaN</td>\n      <td>0</td>\n      <td>NaN</td>\n      <td>16741990</td>\n      <td>5:54:00 AM</td>\n      <td>5:54:00 AM</td>\n      <td>82</td>\n      <td>0</td>\n      <td>0</td>\n    </tr>\n    <tr>\n      <th>1</th>\n      <td>1.0</td>\n      <td>NaN</td>\n      <td>COLUMBUS ST &amp; BROADWAY</td>\n      <td>NaN</td>\n      <td>41.392985</td>\n      <td>-81.536518</td>\n      <td>NaN</td>\n      <td>NaN</td>\n      <td>0</td>\n      <td>NaN</td>\n      <td>16741993</td>\n      <td>6:54:00 AM</td>\n      <td>6:54:00 AM</td>\n      <td>82</td>\n      <td>0</td>\n      <td>0</td>\n    </tr>\n    <tr>\n      <th>2</th>\n      <td>1.0</td>\n      <td>NaN</td>\n      <td>COLUMBUS ST &amp; BROADWAY</td>\n      <td>NaN</td>\n      <td>41.392985</td>\n      <td>-81.536518</td>\n      <td>NaN</td>\n      <td>NaN</td>\n      <td>0</td>\n      <td>NaN</td>\n      <td>16741995</td>\n      <td>7:25:00 AM</td>\n      <td>7:25:00 AM</td>\n      <td>82</td>\n      <td>0</td>\n      <td>0</td>\n    </tr>\n    <tr>\n      <th>3</th>\n      <td>1.0</td>\n      <td>NaN</td>\n      <td>COLUMBUS ST &amp; BROADWAY</td>\n      <td>NaN</td>\n      <td>41.392985</td>\n      <td>-81.536518</td>\n      <td>NaN</td>\n      <td>NaN</td>\n      <td>0</td>\n      <td>NaN</td>\n      <td>16741997</td>\n      <td>7:57:00 AM</td>\n      <td>7:57:00 AM</td>\n      <td>82</td>\n      <td>0</td>\n      <td>0</td>\n    </tr>\n    <tr>\n      <th>4</th>\n      <td>1.0</td>\n      <td>NaN</td>\n      <td>COLUMBUS ST &amp; BROADWAY</td>\n      <td>NaN</td>\n      <td>41.392985</td>\n      <td>-81.536518</td>\n      <td>NaN</td>\n      <td>NaN</td>\n      <td>0</td>\n      <td>NaN</td>\n      <td>16741999</td>\n      <td>8:28:00 AM</td>\n      <td>8:28:00 AM</td>\n      <td>82</td>\n      <td>0</td>\n      <td>0</td>\n    </tr>\n  </tbody>\n</table>\n</div>"
     },
     "metadata": {},
     "execution_count": 4
    }
   ],
   "source": [
    "# merge\n",
    "bus_data = pd.merge(locations_df, stops_df, on=[\"stop_id\", \"stop_id\"])\n",
    "bus_data.head()"
   ]
  },
  {
   "cell_type": "code",
   "execution_count": 5,
   "metadata": {},
   "outputs": [
    {
     "output_type": "execute_result",
     "data": {
      "text/plain": "stop_id  stop_lat   stop_lon  \n1.0      41.392985  -81.536518     63\n2.0      41.418571  -81.760947     72\n4.0      41.503697  -81.618108    241\n5.0      41.384506  -81.756317    108\n14.0     41.498030  -81.692012    370\n                                 ... \n50001.0  41.500290  -81.691917    492\n60001.0  41.500764  -81.682781    172\n60002.0  41.500256  -81.686436    166\n60003.0  41.499918  -81.688906    166\n60004.0  41.499515  -81.691994    161\nName: arrival_time, Length: 5799, dtype: int64"
     },
     "metadata": {},
     "execution_count": 5
    }
   ],
   "source": [
    "#groupby stop id to see how many stops \n",
    "grouped_bystops = bus_data.groupby(['stop_id', 'stop_lat', 'stop_lon'])\n",
    "numberstops = grouped_bystops['arrival_time'].nunique()\n",
    "numberstops"
   ]
  },
  {
   "cell_type": "code",
   "execution_count": 6,
   "metadata": {},
   "outputs": [],
   "source": [
    "#numberstops.tolist()"
   ]
  },
  {
   "cell_type": "code",
   "execution_count": 7,
   "metadata": {},
   "outputs": [
    {
     "output_type": "execute_result",
     "data": {
      "text/plain": "Number of Stops    int64\ndtype: object"
     },
     "metadata": {},
     "execution_count": 7
    }
   ],
   "source": [
    "stopnum_df = pd.DataFrame({\"Number of Stops\":numberstops})\n",
    "stopnum_df.dtypes"
   ]
  },
  {
   "cell_type": "code",
   "execution_count": 8,
   "metadata": {
    "tags": []
   },
   "outputs": [],
   "source": [
    "# set index\n",
    "stopnum_df.reset_index(inplace = True)"
   ]
  },
  {
   "cell_type": "code",
   "execution_count": 9,
   "metadata": {
    "tags": []
   },
   "outputs": [],
   "source": [
    "# Store lat and long\n",
    "locations = stopnum_df[['stop_lat','stop_lon']]\n",
    "stops = stopnum_df[['Number of Stops']].astype(float)"
   ]
  },
  {
   "cell_type": "code",
   "execution_count": 10,
   "metadata": {},
   "outputs": [
    {
     "output_type": "execute_result",
     "data": {
      "text/plain": "      stop_id   stop_lat   stop_lon  Number of Stops\n445    1693.0  41.461686 -81.736618                1\n5188  14209.0  41.404178 -81.467620                2\n3850   9250.0  41.389785 -81.469126                2\n4379  10658.0  41.398490 -81.468961                2\n1852   5055.0  41.449909 -81.535955                2\n...       ...        ...        ...              ...\n5336  14412.0  41.501272 -81.692520              449\n3729   8874.0  41.498977 -81.692950              457\n3180   7694.0  41.497863 -81.697049              482\n5794  50001.0  41.500290 -81.691917              492\n3220   7758.0  41.498597 -81.695403              519\n\n[5799 rows x 4 columns]",
      "text/html": "<div>\n<style scoped>\n    .dataframe tbody tr th:only-of-type {\n        vertical-align: middle;\n    }\n\n    .dataframe tbody tr th {\n        vertical-align: top;\n    }\n\n    .dataframe thead th {\n        text-align: right;\n    }\n</style>\n<table border=\"1\" class=\"dataframe\">\n  <thead>\n    <tr style=\"text-align: right;\">\n      <th></th>\n      <th>stop_id</th>\n      <th>stop_lat</th>\n      <th>stop_lon</th>\n      <th>Number of Stops</th>\n    </tr>\n  </thead>\n  <tbody>\n    <tr>\n      <th>445</th>\n      <td>1693.0</td>\n      <td>41.461686</td>\n      <td>-81.736618</td>\n      <td>1</td>\n    </tr>\n    <tr>\n      <th>5188</th>\n      <td>14209.0</td>\n      <td>41.404178</td>\n      <td>-81.467620</td>\n      <td>2</td>\n    </tr>\n    <tr>\n      <th>3850</th>\n      <td>9250.0</td>\n      <td>41.389785</td>\n      <td>-81.469126</td>\n      <td>2</td>\n    </tr>\n    <tr>\n      <th>4379</th>\n      <td>10658.0</td>\n      <td>41.398490</td>\n      <td>-81.468961</td>\n      <td>2</td>\n    </tr>\n    <tr>\n      <th>1852</th>\n      <td>5055.0</td>\n      <td>41.449909</td>\n      <td>-81.535955</td>\n      <td>2</td>\n    </tr>\n    <tr>\n      <th>...</th>\n      <td>...</td>\n      <td>...</td>\n      <td>...</td>\n      <td>...</td>\n    </tr>\n    <tr>\n      <th>5336</th>\n      <td>14412.0</td>\n      <td>41.501272</td>\n      <td>-81.692520</td>\n      <td>449</td>\n    </tr>\n    <tr>\n      <th>3729</th>\n      <td>8874.0</td>\n      <td>41.498977</td>\n      <td>-81.692950</td>\n      <td>457</td>\n    </tr>\n    <tr>\n      <th>3180</th>\n      <td>7694.0</td>\n      <td>41.497863</td>\n      <td>-81.697049</td>\n      <td>482</td>\n    </tr>\n    <tr>\n      <th>5794</th>\n      <td>50001.0</td>\n      <td>41.500290</td>\n      <td>-81.691917</td>\n      <td>492</td>\n    </tr>\n    <tr>\n      <th>3220</th>\n      <td>7758.0</td>\n      <td>41.498597</td>\n      <td>-81.695403</td>\n      <td>519</td>\n    </tr>\n  </tbody>\n</table>\n<p>5799 rows × 4 columns</p>\n</div>"
     },
     "metadata": {},
     "execution_count": 10
    }
   ],
   "source": [
    "stop_sort = stopnum_df.sort_values(['Number of Stops'], ascending = True)\n",
    "stop_sort"
   ]
  },
  {
   "cell_type": "markdown",
   "metadata": {},
   "source": [
    "Inserting of working population of the cities within the Cuhayoga county"
   ]
  },
  {
   "cell_type": "code",
   "execution_count": 11,
   "metadata": {},
   "outputs": [
    {
     "output_type": "execute_result",
     "data": {
      "text/plain": "                GEO_ID                             NAME        Unnamed: 2  \\\n0                   id             Geographic Area Name               NaN   \n1  0600000US3903500000  County subdivisions not defined   Cuyahoga County   \n2  0600000US3903504416                 Bay Village city   Cuyahoga County   \n3  0600000US3903504500                   Beachwood city   Cuyahoga County   \n4  0600000US3903504878                     Bedford city   Cuyahoga County   \n\n  Unnamed: 3                           Population over 16 Years  \\\n0        NaN  Estimate!!EMPLOYMENT STATUS!!Population 16 yea...   \n1       Ohio                                                  0   \n2       Ohio                                              11912   \n3       Ohio                                               9521   \n4       Ohio                                              10221   \n\n                                          DP03_0001M  \\\n0  Margin of Error!!EMPLOYMENT STATUS!!Population...   \n1                                                 11   \n2                                                174   \n3                                                243   \n4                                                301   \n\n                                         DP03_0001PE  \\\n0  Percent Estimate!!EMPLOYMENT STATUS!!Populatio...   \n1                                                  0   \n2                                              11912   \n3                                               9521   \n4                                              10221   \n\n                                         DP03_0001PM  \\\n0  Percent Margin of Error!!EMPLOYMENT STATUS!!Po...   \n1                                                (X)   \n2                                                (X)   \n3                                                (X)   \n4                                                (X)   \n\n                                     In Labour Force  \\\n0  Estimate!!EMPLOYMENT STATUS!!Population 16 yea...   \n1                                                  0   \n2                                               8054   \n3                                               5239   \n4                                               6641   \n\n                                          DP03_0002M  ...  \\\n0  Margin of Error!!EMPLOYMENT STATUS!!Population...  ...   \n1                                                 11  ...   \n2                                                275  ...   \n3                                                308  ...   \n4                                                461  ...   \n\n                                         DP03_0135PE  \\\n0  Percent Estimate!!PERCENTAGE OF FAMILIES AND P...   \n1                                                  -   \n2                                                6.1   \n3                                                4.5   \n4                                                7.1   \n\n                                         DP03_0135PM  \\\n0  Percent Margin of Error!!PERCENTAGE OF FAMILIE...   \n1                                                 **   \n2                                                2.8   \n3                                                3.1   \n4                                                3.3   \n\n                                          DP03_0136E  \\\n0  Estimate!!PERCENTAGE OF FAMILIES AND PEOPLE WH...   \n1                                                (X)   \n2                                                (X)   \n3                                                (X)   \n4                                                (X)   \n\n                                          DP03_0136M  \\\n0  Margin of Error!!PERCENTAGE OF FAMILIES AND PE...   \n1                                                (X)   \n2                                                (X)   \n3                                                (X)   \n4                                                (X)   \n\n                                         DP03_0136PE  \\\n0  Percent Estimate!!PERCENTAGE OF FAMILIES AND P...   \n1                                                  -   \n2                                                1.7   \n3                                                1.6   \n4                                               10.4   \n\n                                         DP03_0136PM  \\\n0  Percent Margin of Error!!PERCENTAGE OF FAMILIE...   \n1                                                 **   \n2                                                  1   \n3                                                1.1   \n4                                                5.3   \n\n                                          DP03_0137E  \\\n0  Estimate!!PERCENTAGE OF FAMILIES AND PEOPLE WH...   \n1                                                (X)   \n2                                                (X)   \n3                                                (X)   \n4                                                (X)   \n\n                                          DP03_0137M  \\\n0  Margin of Error!!PERCENTAGE OF FAMILIES AND PE...   \n1                                                (X)   \n2                                                (X)   \n3                                                (X)   \n4                                                (X)   \n\n                                         DP03_0137PE  \\\n0  Percent Estimate!!PERCENTAGE OF FAMILIES AND P...   \n1                                                  -   \n2                                                9.3   \n3                                               11.8   \n4                                                 14   \n\n                                         DP03_0137PM  \n0  Percent Margin of Error!!PERCENTAGE OF FAMILIE...  \n1                                                 **  \n2                                                3.2  \n3                                                5.8  \n4                                                4.6  \n\n[5 rows x 552 columns]",
      "text/html": "<div>\n<style scoped>\n    .dataframe tbody tr th:only-of-type {\n        vertical-align: middle;\n    }\n\n    .dataframe tbody tr th {\n        vertical-align: top;\n    }\n\n    .dataframe thead th {\n        text-align: right;\n    }\n</style>\n<table border=\"1\" class=\"dataframe\">\n  <thead>\n    <tr style=\"text-align: right;\">\n      <th></th>\n      <th>GEO_ID</th>\n      <th>NAME</th>\n      <th>Unnamed: 2</th>\n      <th>Unnamed: 3</th>\n      <th>Population over 16 Years</th>\n      <th>DP03_0001M</th>\n      <th>DP03_0001PE</th>\n      <th>DP03_0001PM</th>\n      <th>In Labour Force</th>\n      <th>DP03_0002M</th>\n      <th>...</th>\n      <th>DP03_0135PE</th>\n      <th>DP03_0135PM</th>\n      <th>DP03_0136E</th>\n      <th>DP03_0136M</th>\n      <th>DP03_0136PE</th>\n      <th>DP03_0136PM</th>\n      <th>DP03_0137E</th>\n      <th>DP03_0137M</th>\n      <th>DP03_0137PE</th>\n      <th>DP03_0137PM</th>\n    </tr>\n  </thead>\n  <tbody>\n    <tr>\n      <th>0</th>\n      <td>id</td>\n      <td>Geographic Area Name</td>\n      <td>NaN</td>\n      <td>NaN</td>\n      <td>Estimate!!EMPLOYMENT STATUS!!Population 16 yea...</td>\n      <td>Margin of Error!!EMPLOYMENT STATUS!!Population...</td>\n      <td>Percent Estimate!!EMPLOYMENT STATUS!!Populatio...</td>\n      <td>Percent Margin of Error!!EMPLOYMENT STATUS!!Po...</td>\n      <td>Estimate!!EMPLOYMENT STATUS!!Population 16 yea...</td>\n      <td>Margin of Error!!EMPLOYMENT STATUS!!Population...</td>\n      <td>...</td>\n      <td>Percent Estimate!!PERCENTAGE OF FAMILIES AND P...</td>\n      <td>Percent Margin of Error!!PERCENTAGE OF FAMILIE...</td>\n      <td>Estimate!!PERCENTAGE OF FAMILIES AND PEOPLE WH...</td>\n      <td>Margin of Error!!PERCENTAGE OF FAMILIES AND PE...</td>\n      <td>Percent Estimate!!PERCENTAGE OF FAMILIES AND P...</td>\n      <td>Percent Margin of Error!!PERCENTAGE OF FAMILIE...</td>\n      <td>Estimate!!PERCENTAGE OF FAMILIES AND PEOPLE WH...</td>\n      <td>Margin of Error!!PERCENTAGE OF FAMILIES AND PE...</td>\n      <td>Percent Estimate!!PERCENTAGE OF FAMILIES AND P...</td>\n      <td>Percent Margin of Error!!PERCENTAGE OF FAMILIE...</td>\n    </tr>\n    <tr>\n      <th>1</th>\n      <td>0600000US3903500000</td>\n      <td>County subdivisions not defined</td>\n      <td>Cuyahoga County</td>\n      <td>Ohio</td>\n      <td>0</td>\n      <td>11</td>\n      <td>0</td>\n      <td>(X)</td>\n      <td>0</td>\n      <td>11</td>\n      <td>...</td>\n      <td>-</td>\n      <td>**</td>\n      <td>(X)</td>\n      <td>(X)</td>\n      <td>-</td>\n      <td>**</td>\n      <td>(X)</td>\n      <td>(X)</td>\n      <td>-</td>\n      <td>**</td>\n    </tr>\n    <tr>\n      <th>2</th>\n      <td>0600000US3903504416</td>\n      <td>Bay Village city</td>\n      <td>Cuyahoga County</td>\n      <td>Ohio</td>\n      <td>11912</td>\n      <td>174</td>\n      <td>11912</td>\n      <td>(X)</td>\n      <td>8054</td>\n      <td>275</td>\n      <td>...</td>\n      <td>6.1</td>\n      <td>2.8</td>\n      <td>(X)</td>\n      <td>(X)</td>\n      <td>1.7</td>\n      <td>1</td>\n      <td>(X)</td>\n      <td>(X)</td>\n      <td>9.3</td>\n      <td>3.2</td>\n    </tr>\n    <tr>\n      <th>3</th>\n      <td>0600000US3903504500</td>\n      <td>Beachwood city</td>\n      <td>Cuyahoga County</td>\n      <td>Ohio</td>\n      <td>9521</td>\n      <td>243</td>\n      <td>9521</td>\n      <td>(X)</td>\n      <td>5239</td>\n      <td>308</td>\n      <td>...</td>\n      <td>4.5</td>\n      <td>3.1</td>\n      <td>(X)</td>\n      <td>(X)</td>\n      <td>1.6</td>\n      <td>1.1</td>\n      <td>(X)</td>\n      <td>(X)</td>\n      <td>11.8</td>\n      <td>5.8</td>\n    </tr>\n    <tr>\n      <th>4</th>\n      <td>0600000US3903504878</td>\n      <td>Bedford city</td>\n      <td>Cuyahoga County</td>\n      <td>Ohio</td>\n      <td>10221</td>\n      <td>301</td>\n      <td>10221</td>\n      <td>(X)</td>\n      <td>6641</td>\n      <td>461</td>\n      <td>...</td>\n      <td>7.1</td>\n      <td>3.3</td>\n      <td>(X)</td>\n      <td>(X)</td>\n      <td>10.4</td>\n      <td>5.3</td>\n      <td>(X)</td>\n      <td>(X)</td>\n      <td>14</td>\n      <td>4.6</td>\n    </tr>\n  </tbody>\n</table>\n<p>5 rows × 552 columns</p>\n</div>"
     },
     "metadata": {},
     "execution_count": 11
    }
   ],
   "source": [
    "cuhayoga_df = pd.read_csv('Resources/Cuhayoga_work_status.csv')\n",
    "cuhayoga_census = cuhayoga_df\n",
    "cuhayoga_census.head()"
   ]
  },
  {
   "cell_type": "code",
   "execution_count": 12,
   "metadata": {},
   "outputs": [
    {
     "output_type": "execute_result",
     "data": {
      "text/plain": "                GEO_ID                             NAME        Unnamed: 2  \\\n0                   id             Geographic Area Name               NaN   \n1  0600000US3903500000  County subdivisions not defined   Cuyahoga County   \n2  0600000US3903504416                 Bay Village city   Cuyahoga County   \n3  0600000US3903504500                   Beachwood city   Cuyahoga County   \n4  0600000US3903504878                     Bedford city   Cuyahoga County   \n\n   State                           Population over 16 Years  \\\n0    NaN  Estimate!!EMPLOYMENT STATUS!!Population 16 yea...   \n1   Ohio                                                  0   \n2   Ohio                                              11912   \n3   Ohio                                               9521   \n4   Ohio                                              10221   \n\n                                          DP03_0001M  \\\n0  Margin of Error!!EMPLOYMENT STATUS!!Population...   \n1                                                 11   \n2                                                174   \n3                                                243   \n4                                                301   \n\n                                         DP03_0001PE  \\\n0  Percent Estimate!!EMPLOYMENT STATUS!!Populatio...   \n1                                                  0   \n2                                              11912   \n3                                               9521   \n4                                              10221   \n\n                                         DP03_0001PM  \\\n0  Percent Margin of Error!!EMPLOYMENT STATUS!!Po...   \n1                                                (X)   \n2                                                (X)   \n3                                                (X)   \n4                                                (X)   \n\n                                     In Labour Force  \\\n0  Estimate!!EMPLOYMENT STATUS!!Population 16 yea...   \n1                                                  0   \n2                                               8054   \n3                                               5239   \n4                                               6641   \n\n                                          DP03_0002M  ...  \\\n0  Margin of Error!!EMPLOYMENT STATUS!!Population...  ...   \n1                                                 11  ...   \n2                                                275  ...   \n3                                                308  ...   \n4                                                461  ...   \n\n                                         DP03_0135PE  \\\n0  Percent Estimate!!PERCENTAGE OF FAMILIES AND P...   \n1                                                  -   \n2                                                6.1   \n3                                                4.5   \n4                                                7.1   \n\n                                         DP03_0135PM  \\\n0  Percent Margin of Error!!PERCENTAGE OF FAMILIE...   \n1                                                 **   \n2                                                2.8   \n3                                                3.1   \n4                                                3.3   \n\n                                          DP03_0136E  \\\n0  Estimate!!PERCENTAGE OF FAMILIES AND PEOPLE WH...   \n1                                                (X)   \n2                                                (X)   \n3                                                (X)   \n4                                                (X)   \n\n                                          DP03_0136M  \\\n0  Margin of Error!!PERCENTAGE OF FAMILIES AND PE...   \n1                                                (X)   \n2                                                (X)   \n3                                                (X)   \n4                                                (X)   \n\n                                         DP03_0136PE  \\\n0  Percent Estimate!!PERCENTAGE OF FAMILIES AND P...   \n1                                                  -   \n2                                                1.7   \n3                                                1.6   \n4                                               10.4   \n\n                                         DP03_0136PM  \\\n0  Percent Margin of Error!!PERCENTAGE OF FAMILIE...   \n1                                                 **   \n2                                                  1   \n3                                                1.1   \n4                                                5.3   \n\n                                          DP03_0137E  \\\n0  Estimate!!PERCENTAGE OF FAMILIES AND PEOPLE WH...   \n1                                                (X)   \n2                                                (X)   \n3                                                (X)   \n4                                                (X)   \n\n                                          DP03_0137M  \\\n0  Margin of Error!!PERCENTAGE OF FAMILIES AND PE...   \n1                                                (X)   \n2                                                (X)   \n3                                                (X)   \n4                                                (X)   \n\n                                         DP03_0137PE  \\\n0  Percent Estimate!!PERCENTAGE OF FAMILIES AND P...   \n1                                                  -   \n2                                                9.3   \n3                                               11.8   \n4                                                 14   \n\n                                         DP03_0137PM  \n0  Percent Margin of Error!!PERCENTAGE OF FAMILIE...  \n1                                                 **  \n2                                                3.2  \n3                                                5.8  \n4                                                4.6  \n\n[5 rows x 552 columns]",
      "text/html": "<div>\n<style scoped>\n    .dataframe tbody tr th:only-of-type {\n        vertical-align: middle;\n    }\n\n    .dataframe tbody tr th {\n        vertical-align: top;\n    }\n\n    .dataframe thead th {\n        text-align: right;\n    }\n</style>\n<table border=\"1\" class=\"dataframe\">\n  <thead>\n    <tr style=\"text-align: right;\">\n      <th></th>\n      <th>GEO_ID</th>\n      <th>NAME</th>\n      <th>Unnamed: 2</th>\n      <th>State</th>\n      <th>Population over 16 Years</th>\n      <th>DP03_0001M</th>\n      <th>DP03_0001PE</th>\n      <th>DP03_0001PM</th>\n      <th>In Labour Force</th>\n      <th>DP03_0002M</th>\n      <th>...</th>\n      <th>DP03_0135PE</th>\n      <th>DP03_0135PM</th>\n      <th>DP03_0136E</th>\n      <th>DP03_0136M</th>\n      <th>DP03_0136PE</th>\n      <th>DP03_0136PM</th>\n      <th>DP03_0137E</th>\n      <th>DP03_0137M</th>\n      <th>DP03_0137PE</th>\n      <th>DP03_0137PM</th>\n    </tr>\n  </thead>\n  <tbody>\n    <tr>\n      <th>0</th>\n      <td>id</td>\n      <td>Geographic Area Name</td>\n      <td>NaN</td>\n      <td>NaN</td>\n      <td>Estimate!!EMPLOYMENT STATUS!!Population 16 yea...</td>\n      <td>Margin of Error!!EMPLOYMENT STATUS!!Population...</td>\n      <td>Percent Estimate!!EMPLOYMENT STATUS!!Populatio...</td>\n      <td>Percent Margin of Error!!EMPLOYMENT STATUS!!Po...</td>\n      <td>Estimate!!EMPLOYMENT STATUS!!Population 16 yea...</td>\n      <td>Margin of Error!!EMPLOYMENT STATUS!!Population...</td>\n      <td>...</td>\n      <td>Percent Estimate!!PERCENTAGE OF FAMILIES AND P...</td>\n      <td>Percent Margin of Error!!PERCENTAGE OF FAMILIE...</td>\n      <td>Estimate!!PERCENTAGE OF FAMILIES AND PEOPLE WH...</td>\n      <td>Margin of Error!!PERCENTAGE OF FAMILIES AND PE...</td>\n      <td>Percent Estimate!!PERCENTAGE OF FAMILIES AND P...</td>\n      <td>Percent Margin of Error!!PERCENTAGE OF FAMILIE...</td>\n      <td>Estimate!!PERCENTAGE OF FAMILIES AND PEOPLE WH...</td>\n      <td>Margin of Error!!PERCENTAGE OF FAMILIES AND PE...</td>\n      <td>Percent Estimate!!PERCENTAGE OF FAMILIES AND P...</td>\n      <td>Percent Margin of Error!!PERCENTAGE OF FAMILIE...</td>\n    </tr>\n    <tr>\n      <th>1</th>\n      <td>0600000US3903500000</td>\n      <td>County subdivisions not defined</td>\n      <td>Cuyahoga County</td>\n      <td>Ohio</td>\n      <td>0</td>\n      <td>11</td>\n      <td>0</td>\n      <td>(X)</td>\n      <td>0</td>\n      <td>11</td>\n      <td>...</td>\n      <td>-</td>\n      <td>**</td>\n      <td>(X)</td>\n      <td>(X)</td>\n      <td>-</td>\n      <td>**</td>\n      <td>(X)</td>\n      <td>(X)</td>\n      <td>-</td>\n      <td>**</td>\n    </tr>\n    <tr>\n      <th>2</th>\n      <td>0600000US3903504416</td>\n      <td>Bay Village city</td>\n      <td>Cuyahoga County</td>\n      <td>Ohio</td>\n      <td>11912</td>\n      <td>174</td>\n      <td>11912</td>\n      <td>(X)</td>\n      <td>8054</td>\n      <td>275</td>\n      <td>...</td>\n      <td>6.1</td>\n      <td>2.8</td>\n      <td>(X)</td>\n      <td>(X)</td>\n      <td>1.7</td>\n      <td>1</td>\n      <td>(X)</td>\n      <td>(X)</td>\n      <td>9.3</td>\n      <td>3.2</td>\n    </tr>\n    <tr>\n      <th>3</th>\n      <td>0600000US3903504500</td>\n      <td>Beachwood city</td>\n      <td>Cuyahoga County</td>\n      <td>Ohio</td>\n      <td>9521</td>\n      <td>243</td>\n      <td>9521</td>\n      <td>(X)</td>\n      <td>5239</td>\n      <td>308</td>\n      <td>...</td>\n      <td>4.5</td>\n      <td>3.1</td>\n      <td>(X)</td>\n      <td>(X)</td>\n      <td>1.6</td>\n      <td>1.1</td>\n      <td>(X)</td>\n      <td>(X)</td>\n      <td>11.8</td>\n      <td>5.8</td>\n    </tr>\n    <tr>\n      <th>4</th>\n      <td>0600000US3903504878</td>\n      <td>Bedford city</td>\n      <td>Cuyahoga County</td>\n      <td>Ohio</td>\n      <td>10221</td>\n      <td>301</td>\n      <td>10221</td>\n      <td>(X)</td>\n      <td>6641</td>\n      <td>461</td>\n      <td>...</td>\n      <td>7.1</td>\n      <td>3.3</td>\n      <td>(X)</td>\n      <td>(X)</td>\n      <td>10.4</td>\n      <td>5.3</td>\n      <td>(X)</td>\n      <td>(X)</td>\n      <td>14</td>\n      <td>4.6</td>\n    </tr>\n  </tbody>\n</table>\n<p>5 rows × 552 columns</p>\n</div>"
     },
     "metadata": {},
     "execution_count": 12
    }
   ],
   "source": [
    "cuhayoga_census = cuhayoga_census.rename(\n",
    "    columns={\"Unnamed: 3\": \"State\"})\n",
    "cuhayoga_census.head()"
   ]
  },
  {
   "cell_type": "code",
   "execution_count": 13,
   "metadata": {},
   "outputs": [
    {
     "output_type": "execute_result",
     "data": {
      "text/plain": "                              NAME  State  \\\n0             Geographic Area Name    NaN   \n1  County subdivisions not defined   Ohio   \n2                 Bay Village city   Ohio   \n3                   Beachwood city   Ohio   \n4                     Bedford city   Ohio   \n\n                            Population over 16 Years  \n0  Estimate!!EMPLOYMENT STATUS!!Population 16 yea...  \n1                                                  0  \n2                                              11912  \n3                                               9521  \n4                                              10221  ",
      "text/html": "<div>\n<style scoped>\n    .dataframe tbody tr th:only-of-type {\n        vertical-align: middle;\n    }\n\n    .dataframe tbody tr th {\n        vertical-align: top;\n    }\n\n    .dataframe thead th {\n        text-align: right;\n    }\n</style>\n<table border=\"1\" class=\"dataframe\">\n  <thead>\n    <tr style=\"text-align: right;\">\n      <th></th>\n      <th>NAME</th>\n      <th>State</th>\n      <th>Population over 16 Years</th>\n    </tr>\n  </thead>\n  <tbody>\n    <tr>\n      <th>0</th>\n      <td>Geographic Area Name</td>\n      <td>NaN</td>\n      <td>Estimate!!EMPLOYMENT STATUS!!Population 16 yea...</td>\n    </tr>\n    <tr>\n      <th>1</th>\n      <td>County subdivisions not defined</td>\n      <td>Ohio</td>\n      <td>0</td>\n    </tr>\n    <tr>\n      <th>2</th>\n      <td>Bay Village city</td>\n      <td>Ohio</td>\n      <td>11912</td>\n    </tr>\n    <tr>\n      <th>3</th>\n      <td>Beachwood city</td>\n      <td>Ohio</td>\n      <td>9521</td>\n    </tr>\n    <tr>\n      <th>4</th>\n      <td>Bedford city</td>\n      <td>Ohio</td>\n      <td>10221</td>\n    </tr>\n  </tbody>\n</table>\n</div>"
     },
     "metadata": {},
     "execution_count": 13
    }
   ],
   "source": [
    "cuhayoga_rta = cuhayoga_census.loc[:, [\"NAME\", \"State\", \"Population over 16 Years\"]]\n",
    "cuhayoga_rta.head()"
   ]
  },
  {
   "cell_type": "code",
   "execution_count": 14,
   "metadata": {},
   "outputs": [
    {
     "output_type": "execute_result",
     "data": {
      "text/plain": "                              NAME  State Population over 16 Years\n1  County subdivisions not defined   Ohio                        0\n2                 Bay Village city   Ohio                    11912\n3                   Beachwood city   Ohio                     9521\n4                     Bedford city   Ohio                    10221\n5             Bedford Heights city   Ohio                     9290",
      "text/html": "<div>\n<style scoped>\n    .dataframe tbody tr th:only-of-type {\n        vertical-align: middle;\n    }\n\n    .dataframe tbody tr th {\n        vertical-align: top;\n    }\n\n    .dataframe thead th {\n        text-align: right;\n    }\n</style>\n<table border=\"1\" class=\"dataframe\">\n  <thead>\n    <tr style=\"text-align: right;\">\n      <th></th>\n      <th>NAME</th>\n      <th>State</th>\n      <th>Population over 16 Years</th>\n    </tr>\n  </thead>\n  <tbody>\n    <tr>\n      <th>1</th>\n      <td>County subdivisions not defined</td>\n      <td>Ohio</td>\n      <td>0</td>\n    </tr>\n    <tr>\n      <th>2</th>\n      <td>Bay Village city</td>\n      <td>Ohio</td>\n      <td>11912</td>\n    </tr>\n    <tr>\n      <th>3</th>\n      <td>Beachwood city</td>\n      <td>Ohio</td>\n      <td>9521</td>\n    </tr>\n    <tr>\n      <th>4</th>\n      <td>Bedford city</td>\n      <td>Ohio</td>\n      <td>10221</td>\n    </tr>\n    <tr>\n      <th>5</th>\n      <td>Bedford Heights city</td>\n      <td>Ohio</td>\n      <td>9290</td>\n    </tr>\n  </tbody>\n</table>\n</div>"
     },
     "metadata": {},
     "execution_count": 14
    }
   ],
   "source": [
    "# drop null rows\n",
    "#no_null_crime_df = crime_df.dropna(how='any')\n",
    "cuhayoga_cleaning = cuhayoga_rta.dropna(how='any')\n",
    "cuhayoga_cleaning.head()"
   ]
  },
  {
   "cell_type": "code",
   "execution_count": 15,
   "metadata": {},
   "outputs": [
    {
     "output_type": "execute_result",
     "data": {
      "text/plain": "                              NAME  State Population over 16 Years Lat Lng\n1  County subdivisions not defined   Ohio                        0        \n2                 Bay Village city   Ohio                    11912        \n3                   Beachwood city   Ohio                     9521        \n4                     Bedford city   Ohio                    10221        \n5             Bedford Heights city   Ohio                     9290        ",
      "text/html": "<div>\n<style scoped>\n    .dataframe tbody tr th:only-of-type {\n        vertical-align: middle;\n    }\n\n    .dataframe tbody tr th {\n        vertical-align: top;\n    }\n\n    .dataframe thead th {\n        text-align: right;\n    }\n</style>\n<table border=\"1\" class=\"dataframe\">\n  <thead>\n    <tr style=\"text-align: right;\">\n      <th></th>\n      <th>NAME</th>\n      <th>State</th>\n      <th>Population over 16 Years</th>\n      <th>Lat</th>\n      <th>Lng</th>\n    </tr>\n  </thead>\n  <tbody>\n    <tr>\n      <th>1</th>\n      <td>County subdivisions not defined</td>\n      <td>Ohio</td>\n      <td>0</td>\n      <td></td>\n      <td></td>\n    </tr>\n    <tr>\n      <th>2</th>\n      <td>Bay Village city</td>\n      <td>Ohio</td>\n      <td>11912</td>\n      <td></td>\n      <td></td>\n    </tr>\n    <tr>\n      <th>3</th>\n      <td>Beachwood city</td>\n      <td>Ohio</td>\n      <td>9521</td>\n      <td></td>\n      <td></td>\n    </tr>\n    <tr>\n      <th>4</th>\n      <td>Bedford city</td>\n      <td>Ohio</td>\n      <td>10221</td>\n      <td></td>\n      <td></td>\n    </tr>\n    <tr>\n      <th>5</th>\n      <td>Bedford Heights city</td>\n      <td>Ohio</td>\n      <td>9290</td>\n      <td></td>\n      <td></td>\n    </tr>\n  </tbody>\n</table>\n</div>"
     },
     "metadata": {},
     "execution_count": 15
    }
   ],
   "source": [
    "#add lat and lng columns for city\n",
    "cuhayoga_cleaning['Lat'] = ''\n",
    "cuhayoga_cleaning['Lng'] = ''\n",
    "cuhayoga_cleaning.head()"
   ]
  },
  {
   "cell_type": "code",
   "execution_count": 16,
   "metadata": {},
   "outputs": [
    {
     "output_type": "error",
     "ename": "NameError",
     "evalue": "name 'gkey' is not defined",
     "traceback": [
      "\u001b[1;31m---------------------------------------------------------------------------\u001b[0m",
      "\u001b[1;31mNameError\u001b[0m                                 Traceback (most recent call last)",
      "\u001b[1;32m<ipython-input-16-e8b0471864f0>\u001b[0m in \u001b[0;36m<module>\u001b[1;34m\u001b[0m\n\u001b[0;32m      1\u001b[0m \u001b[1;31m# create a params dict that will be updated with new city each iteration\u001b[0m\u001b[1;33m\u001b[0m\u001b[1;33m\u001b[0m\u001b[1;33m\u001b[0m\u001b[0m\n\u001b[1;32m----> 2\u001b[1;33m \u001b[0mparams\u001b[0m \u001b[1;33m=\u001b[0m \u001b[1;33m{\u001b[0m\u001b[1;34m\"key\"\u001b[0m\u001b[1;33m:\u001b[0m \u001b[0mgkey\u001b[0m\u001b[1;33m}\u001b[0m\u001b[1;33m\u001b[0m\u001b[1;33m\u001b[0m\u001b[0m\n\u001b[0m\u001b[0;32m      3\u001b[0m \u001b[1;33m\u001b[0m\u001b[0m\n\u001b[0;32m      4\u001b[0m \u001b[1;31m# Loop through the cuhayoga_rta and run a lat/long search for each city in the county\u001b[0m\u001b[1;33m\u001b[0m\u001b[1;33m\u001b[0m\u001b[1;33m\u001b[0m\u001b[0m\n\u001b[0;32m      5\u001b[0m \u001b[1;32mfor\u001b[0m \u001b[0mindex\u001b[0m\u001b[1;33m,\u001b[0m \u001b[0mrow\u001b[0m \u001b[1;32min\u001b[0m \u001b[0mcuhayoga_cleaning\u001b[0m\u001b[1;33m.\u001b[0m\u001b[0miterrows\u001b[0m\u001b[1;33m(\u001b[0m\u001b[1;33m)\u001b[0m\u001b[1;33m:\u001b[0m\u001b[1;33m\u001b[0m\u001b[1;33m\u001b[0m\u001b[0m\n",
      "\u001b[1;31mNameError\u001b[0m: name 'gkey' is not defined"
     ]
    }
   ],
   "source": [
    "# create a params dict that will be updated with new city each iteration\n",
    "params = {\"key\": gkey}\n",
    "\n",
    "# Loop through the cuhayoga_rta and run a lat/long search for each city in the county\n",
    "for index, row in cuhayoga_cleaning.iterrows():\n",
    "    base_url = \"https://maps.googleapis.com/maps/api/geocode/json\"\n",
    "\n",
    "    city = row['NAME']\n",
    "    state = row['State']\n",
    "    \n",
    "    # update address key value\n",
    "    params['address'] = f\"{city},{state}\"\n",
    "\n",
    "    # make request\n",
    "    cuhayoga_location = requests.get(base_url, params=params)\n",
    "       \n",
    "    # convert to json\n",
    "    cuhayoga_location = cuhayoga_location.json()\n",
    "    try:\n",
    "\n",
    "        cuhayoga_cleaning.loc[index, \"Lat\"] = cuhayoga_location[\"results\"][0][\"geometry\"][\"location\"][\"lat\"]\n",
    "        cuhayoga_cleaning.loc[index, \"Lng\"] = cuhayoga_location[\"results\"][0][\"geometry\"][\"location\"][\"lng\"]\n",
    "    \n",
    "    except (KeyError, IndexError):\n",
    "        print(\"Missing field/result... skipping.\")\n",
    "\n",
    "# Visualize to confirm lat lng appear\n",
    "cuhayoga_cleaning.head()"
   ]
  },
  {
   "cell_type": "code",
   "execution_count": 17,
   "metadata": {},
   "outputs": [
    {
     "output_type": "display_data",
     "data": {
      "text/plain": "Figure(layout=FigureLayout(height='420px'))",
      "application/vnd.jupyter.widget-view+json": {
       "version_major": 2,
       "version_minor": 0,
       "model_id": "72d57ff12e14447ca018fe86bbb57c19"
      }
     },
     "metadata": {}
    }
   ],
   "source": [
    "# Plot Heatmap\n",
    "\n",
    "#Can we get weights to work???\n",
    "fig_heat = gmaps.figure()\n",
    "heat_layer = gmaps.heatmap_layer(locations, dissipating=False, max_intensity=2, point_radius=.0025)\n",
    "fig_heat.add_layer(heat_layer)\n",
    "fig_heat"
   ]
  },
  {
   "cell_type": "code",
   "execution_count": 18,
   "metadata": {},
   "outputs": [
    {
     "output_type": "display_data",
     "data": {
      "text/plain": "Figure(layout=FigureLayout(height='420px'))",
      "application/vnd.jupyter.widget-view+json": {
       "version_major": 2,
       "version_minor": 0,
       "model_id": "c6ea48afa2e04211b68de26135810ffe"
      }
     },
     "metadata": {}
    }
   ],
   "source": [
    "# plot locations\n",
    "fig_mark = gmaps.figure()\n",
    "# Assign the marker layer to a variable\n",
    "markers = gmaps.marker_layer(locations)\n",
    "# Add the layer to the map\n",
    "fig_mark.add_layer(markers)\n",
    "fig_mark"
   ]
  },
  {
   "cell_type": "code",
   "execution_count": 20,
   "metadata": {},
   "outputs": [
    {
     "output_type": "display_data",
     "data": {
      "text/plain": "Figure(layout=FigureLayout(height='600px', margin='0 auto 0 auto', width='800px'))",
      "application/vnd.jupyter.widget-view+json": {
       "version_major": 2,
       "version_minor": 0,
       "model_id": "78ec995d52924d3ab014d2f88e8eb4f3"
      }
     },
     "metadata": {}
    }
   ],
   "source": [
    "#visualize areas of interest\n",
    "figure_layout = {\n",
    "    'width': '800px',\n",
    "    'height': '600px',\n",
    "    'margin': '0 auto 0 auto'\n",
    "}\n",
    "fig_poly = gmaps.figure(layout=figure_layout,zoom_level=11, center=(41.45, -81.676029))\n",
    "#fig_poly = gmaps.figure()\n",
    "poly = gmaps.drawing_layer(features=[\n",
    "    gmaps.heatmap_layer(locations, dissipating=False, max_intensity=2,                 point_radius=.0025),\n",
    "    gmaps.Polygon(\n",
    "        [(41.422357, -81.682310), (41.443596, -81.682455), (41.443533, -81.629649),         (41.421745, -81.636593), (41.410144, -81.648661), (41.413432, -81.683392)], fill_color=('blue')),\n",
    "    gmaps.Polygon(\n",
    "        [\n",
    "            #burke\n",
    "            (41.516709, -81.676029), \n",
    "            #lago e bank\n",
    "            (41.501456, -81.705219),\n",
    "            #flats\n",
    "            (41.494781, -81.699536),\n",
    "            #the jake (always the jake)\n",
    "            (41.495057, -81.683945),\n",
    "            #CSU\n",
    "            (41.500102, -81.675685),\n",
    "            #Slymans\n",
    "            (41.513014, -81.671483)],\n",
    "             fill_color=('green'))\n",
    "        \n",
    "        ])\n",
    "fig_poly.add_layer(poly)\n",
    "\n",
    "fig_poly\n",
    "# add legends??"
   ]
  },
  {
   "cell_type": "markdown",
   "metadata": {},
   "source": [
    "Linking Population of cities to heatmap from current RTA stops."
   ]
  },
  {
   "cell_type": "code",
   "execution_count": 21,
   "metadata": {},
   "outputs": [],
   "source": [
    "#This is Leah's test line of code for merging"
   ]
  },
  {
   "cell_type": "code",
   "execution_count": 27,
   "metadata": {},
   "outputs": [
    {
     "output_type": "execute_result",
     "data": {
      "text/plain": "                                       hosp_name   hosp_lat   hosp_lon\n0                         Bedford Medical Center  41.395434 -81.534532\n1                    Cleveland Clinic Foundation  41.513757 -81.622297\n2                                Euclid Hospital  41.598870 -81.548521\n3                              Fairview Hospital  41.450264 -81.823845\n4                                 Grace Hospital  41.480654 -81.690865\n5                             Hillcrest Hospital  41.519390 -81.434708\n6                                 Huron Hospital  41.525826 -81.584320\n7                  Kaiser Permamente (Snow Road)  41.404831 -81.775336\n8              Kaiser Permanente (Cleveland Hts)  41.514106 -81.550894\n9                              Lakewood Hospital  41.484856 -81.797217\n10                             Lutheran Hospital  41.486835 -81.707566\n11                            Marymount Hospital  41.421305 -81.598304\n12            MetroHealth Broadway Health Center  41.461353 -81.640841\n13                    MetroHealth Medical Center  41.440177 -81.722234\n14              Parma Community General Hospital  41.381880 -81.731375\n15              Regency Hospital- Cleveland East  41.432386 -81.506442\n16                  St. John West Shore Hospital  41.435761 -81.943810\n17                  St. Vincent Charity Hospital  41.496335 -81.673801\n18                         South Pointe Hospital  41.447984 -81.537279\n19               Southwest General Health Center  41.370859 -81.834074\n20             University Hospitals of Cleveland  41.505077 -81.605471\n21  Veterans Affairs Medical Center - East Blvd.  41.513757 -81.613747",
      "text/html": "<div>\n<style scoped>\n    .dataframe tbody tr th:only-of-type {\n        vertical-align: middle;\n    }\n\n    .dataframe tbody tr th {\n        vertical-align: top;\n    }\n\n    .dataframe thead th {\n        text-align: right;\n    }\n</style>\n<table border=\"1\" class=\"dataframe\">\n  <thead>\n    <tr style=\"text-align: right;\">\n      <th></th>\n      <th>hosp_name</th>\n      <th>hosp_lat</th>\n      <th>hosp_lon</th>\n    </tr>\n  </thead>\n  <tbody>\n    <tr>\n      <th>0</th>\n      <td>Bedford Medical Center</td>\n      <td>41.395434</td>\n      <td>-81.534532</td>\n    </tr>\n    <tr>\n      <th>1</th>\n      <td>Cleveland Clinic Foundation</td>\n      <td>41.513757</td>\n      <td>-81.622297</td>\n    </tr>\n    <tr>\n      <th>2</th>\n      <td>Euclid Hospital</td>\n      <td>41.598870</td>\n      <td>-81.548521</td>\n    </tr>\n    <tr>\n      <th>3</th>\n      <td>Fairview Hospital</td>\n      <td>41.450264</td>\n      <td>-81.823845</td>\n    </tr>\n    <tr>\n      <th>4</th>\n      <td>Grace Hospital</td>\n      <td>41.480654</td>\n      <td>-81.690865</td>\n    </tr>\n    <tr>\n      <th>5</th>\n      <td>Hillcrest Hospital</td>\n      <td>41.519390</td>\n      <td>-81.434708</td>\n    </tr>\n    <tr>\n      <th>6</th>\n      <td>Huron Hospital</td>\n      <td>41.525826</td>\n      <td>-81.584320</td>\n    </tr>\n    <tr>\n      <th>7</th>\n      <td>Kaiser Permamente (Snow Road)</td>\n      <td>41.404831</td>\n      <td>-81.775336</td>\n    </tr>\n    <tr>\n      <th>8</th>\n      <td>Kaiser Permanente (Cleveland Hts)</td>\n      <td>41.514106</td>\n      <td>-81.550894</td>\n    </tr>\n    <tr>\n      <th>9</th>\n      <td>Lakewood Hospital</td>\n      <td>41.484856</td>\n      <td>-81.797217</td>\n    </tr>\n    <tr>\n      <th>10</th>\n      <td>Lutheran Hospital</td>\n      <td>41.486835</td>\n      <td>-81.707566</td>\n    </tr>\n    <tr>\n      <th>11</th>\n      <td>Marymount Hospital</td>\n      <td>41.421305</td>\n      <td>-81.598304</td>\n    </tr>\n    <tr>\n      <th>12</th>\n      <td>MetroHealth Broadway Health Center</td>\n      <td>41.461353</td>\n      <td>-81.640841</td>\n    </tr>\n    <tr>\n      <th>13</th>\n      <td>MetroHealth Medical Center</td>\n      <td>41.440177</td>\n      <td>-81.722234</td>\n    </tr>\n    <tr>\n      <th>14</th>\n      <td>Parma Community General Hospital</td>\n      <td>41.381880</td>\n      <td>-81.731375</td>\n    </tr>\n    <tr>\n      <th>15</th>\n      <td>Regency Hospital- Cleveland East</td>\n      <td>41.432386</td>\n      <td>-81.506442</td>\n    </tr>\n    <tr>\n      <th>16</th>\n      <td>St. John West Shore Hospital</td>\n      <td>41.435761</td>\n      <td>-81.943810</td>\n    </tr>\n    <tr>\n      <th>17</th>\n      <td>St. Vincent Charity Hospital</td>\n      <td>41.496335</td>\n      <td>-81.673801</td>\n    </tr>\n    <tr>\n      <th>18</th>\n      <td>South Pointe Hospital</td>\n      <td>41.447984</td>\n      <td>-81.537279</td>\n    </tr>\n    <tr>\n      <th>19</th>\n      <td>Southwest General Health Center</td>\n      <td>41.370859</td>\n      <td>-81.834074</td>\n    </tr>\n    <tr>\n      <th>20</th>\n      <td>University Hospitals of Cleveland</td>\n      <td>41.505077</td>\n      <td>-81.605471</td>\n    </tr>\n    <tr>\n      <th>21</th>\n      <td>Veterans Affairs Medical Center - East Blvd.</td>\n      <td>41.513757</td>\n      <td>-81.613747</td>\n    </tr>\n  </tbody>\n</table>\n</div>"
     },
     "metadata": {},
     "execution_count": 27
    }
   ],
   "source": [
    "# Path to hospital data CSV file (includes names,coordinates)\n",
    "hospitals_file = \"Resources/hosp_data.csv\"\n",
    "\n",
    "# Read file to and display resulting dataframe\n",
    "hospitals_df = pd.read_csv(hospitals_file)\n",
    "hospitals_df.head()\n",
    "hospitals_df"
   ]
  },
  {
   "cell_type": "code",
   "execution_count": 28,
   "metadata": {},
   "outputs": [
    {
     "output_type": "display_data",
     "data": {
      "text/plain": "Figure(layout=FigureLayout(height='420px'))",
      "application/vnd.jupyter.widget-view+json": {
       "version_major": 2,
       "version_minor": 0,
       "model_id": "d8d14d3d86894bd79834629eba9c9513"
      }
     },
     "metadata": {}
    }
   ],
   "source": [
    "###### Begin Hospital Code\n",
    "\n",
    "### Simple plot of Hospital \n",
    "# Plot hospital locations\n",
    "hfig_mark = gmaps.figure()\n",
    "hlocations = hospitals_df[['hosp_lat','hosp_lon']]\n",
    "# Marker variable\n",
    "hosp_markers = gmaps.marker_layer(hlocations)\n",
    "# Add map markers/display map\n",
    "hfig_mark.add_layer(hosp_markers)\n",
    "hfig_mark\n",
    "###"
   ]
  },
  {
   "cell_type": "code",
   "execution_count": 29,
   "metadata": {},
   "outputs": [
    {
     "output_type": "display_data",
     "data": {
      "text/plain": "Figure(layout=FigureLayout(height='420px'))",
      "application/vnd.jupyter.widget-view+json": {
       "version_major": 2,
       "version_minor": 0,
       "model_id": "5e545c77d69b469a8dad431cdf94c23a"
      }
     },
     "metadata": {}
    }
   ],
   "source": [
    "### Combination Map (Hospital + Bus Stop locations)\n",
    "# Mock Original Heat Map\n",
    "combo_heat = gmaps.figure()\n",
    "new_layer = gmaps.heatmap_layer(locations, dissipating=False, max_intensity=2, point_radius=.0025)\n",
    "combo_heat.add_layer(new_layer)\n",
    "\n",
    "# Define hospital plots\n",
    "newhosp_markers = gmaps.marker_layer(hlocations)\n",
    "\n",
    "# Add map markers/display map\n",
    "combo_heat.add_layer(newhosp_markers)\n",
    "\n",
    "#Display Combination map \n",
    "combo_heat\n",
    "\n",
    "###\n",
    "\n",
    "######End Hospital Code"
   ]
  },
  {
   "cell_type": "code",
   "execution_count": null,
   "metadata": {},
   "outputs": [],
   "source": []
  }
 ],
 "metadata": {
  "kernelspec": {
   "display_name": "Python 3",
   "language": "python",
   "name": "python3"
  },
  "language_info": {
   "codemirror_mode": {
    "name": "ipython",
    "version": 3
   },
   "file_extension": ".py",
   "mimetype": "text/x-python",
   "name": "python",
   "nbconvert_exporter": "python",
   "pygments_lexer": "ipython3",
   "version": "3.7.6-final"
  }
 },
 "nbformat": 4,
 "nbformat_minor": 2
}