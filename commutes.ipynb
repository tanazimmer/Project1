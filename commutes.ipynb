{
 "metadata": {
  "language_info": {
   "codemirror_mode": {
    "name": "ipython",
    "version": 3
   },
   "file_extension": ".py",
   "mimetype": "text/x-python",
   "name": "python",
   "nbconvert_exporter": "python",
   "pygments_lexer": "ipython3",
   "version": "3.8.3-final"
  },
  "orig_nbformat": 2,
  "kernelspec": {
   "name": "python3",
   "display_name": "Python 3"
  }
 },
 "nbformat": 4,
 "nbformat_minor": 2,
 "cells": [
  {
   "cell_type": "code",
   "execution_count": 1,
   "metadata": {},
   "outputs": [],
   "source": [
    "#Dependencies\n",
    "import pandas as pd \n",
    "import matplotlib.pyplot as plt\n",
    "import numpy as np \n"
   ]
  },
  {
   "cell_type": "code",
   "execution_count": 7,
   "metadata": {},
   "outputs": [],
   "source": [
    "#Import stop times data\n",
    "stoptime_file = \"Resources/stop_times.csv\"\n",
    "stops_file = \"Resources/stops.csv\"\n",
    "stoptimes_df = pd.read_csv(stoptime_file)\n",
    "stops_df = pd.read_csv(stops_file)\n"
   ]
  },
  {
   "cell_type": "code",
   "execution_count": 8,
   "metadata": {},
   "outputs": [
    {
     "output_type": "execute_result",
     "data": {
      "text/plain": "    trip_id arrival_time departure_time  stop_id  stop_sequence  pickup_type  \\\n0  16741667   3:21:00 AM     3:21:00 AM    14507              1            0   \n1  16741668   3:29:00 AM     3:29:00 AM    14507             66            0   \n2  16741669   3:51:00 AM     3:51:00 AM    14507              1            0   \n3  16741670   5:35:00 AM     5:35:00 AM    14507             66            0   \n4  16741671   5:05:00 AM     5:05:00 AM    14507             66            0   \n\n   drop_off_type  stop_code                              stop_name  stop_desc  \\\n0              0        NaN  STOKES-WINDERMERE STATION BUS STOP #3        NaN   \n1              0        NaN  STOKES-WINDERMERE STATION BUS STOP #3        NaN   \n2              0        NaN  STOKES-WINDERMERE STATION BUS STOP #3        NaN   \n3              0        NaN  STOKES-WINDERMERE STATION BUS STOP #3        NaN   \n4              0        NaN  STOKES-WINDERMERE STATION BUS STOP #3        NaN   \n\n    stop_lat   stop_lon  zone_id  stop_url  location_type parent_station  \n0  41.530769 -81.584102      NaN       NaN              0            NaN  \n1  41.530769 -81.584102      NaN       NaN              0            NaN  \n2  41.530769 -81.584102      NaN       NaN              0            NaN  \n3  41.530769 -81.584102      NaN       NaN              0            NaN  \n4  41.530769 -81.584102      NaN       NaN              0            NaN  ",
      "text/html": "<div>\n<style scoped>\n    .dataframe tbody tr th:only-of-type {\n        vertical-align: middle;\n    }\n\n    .dataframe tbody tr th {\n        vertical-align: top;\n    }\n\n    .dataframe thead th {\n        text-align: right;\n    }\n</style>\n<table border=\"1\" class=\"dataframe\">\n  <thead>\n    <tr style=\"text-align: right;\">\n      <th></th>\n      <th>trip_id</th>\n      <th>arrival_time</th>\n      <th>departure_time</th>\n      <th>stop_id</th>\n      <th>stop_sequence</th>\n      <th>pickup_type</th>\n      <th>drop_off_type</th>\n      <th>stop_code</th>\n      <th>stop_name</th>\n      <th>stop_desc</th>\n      <th>stop_lat</th>\n      <th>stop_lon</th>\n      <th>zone_id</th>\n      <th>stop_url</th>\n      <th>location_type</th>\n      <th>parent_station</th>\n    </tr>\n  </thead>\n  <tbody>\n    <tr>\n      <th>0</th>\n      <td>16741667</td>\n      <td>3:21:00 AM</td>\n      <td>3:21:00 AM</td>\n      <td>14507</td>\n      <td>1</td>\n      <td>0</td>\n      <td>0</td>\n      <td>NaN</td>\n      <td>STOKES-WINDERMERE STATION BUS STOP #3</td>\n      <td>NaN</td>\n      <td>41.530769</td>\n      <td>-81.584102</td>\n      <td>NaN</td>\n      <td>NaN</td>\n      <td>0</td>\n      <td>NaN</td>\n    </tr>\n    <tr>\n      <th>1</th>\n      <td>16741668</td>\n      <td>3:29:00 AM</td>\n      <td>3:29:00 AM</td>\n      <td>14507</td>\n      <td>66</td>\n      <td>0</td>\n      <td>0</td>\n      <td>NaN</td>\n      <td>STOKES-WINDERMERE STATION BUS STOP #3</td>\n      <td>NaN</td>\n      <td>41.530769</td>\n      <td>-81.584102</td>\n      <td>NaN</td>\n      <td>NaN</td>\n      <td>0</td>\n      <td>NaN</td>\n    </tr>\n    <tr>\n      <th>2</th>\n      <td>16741669</td>\n      <td>3:51:00 AM</td>\n      <td>3:51:00 AM</td>\n      <td>14507</td>\n      <td>1</td>\n      <td>0</td>\n      <td>0</td>\n      <td>NaN</td>\n      <td>STOKES-WINDERMERE STATION BUS STOP #3</td>\n      <td>NaN</td>\n      <td>41.530769</td>\n      <td>-81.584102</td>\n      <td>NaN</td>\n      <td>NaN</td>\n      <td>0</td>\n      <td>NaN</td>\n    </tr>\n    <tr>\n      <th>3</th>\n      <td>16741670</td>\n      <td>5:35:00 AM</td>\n      <td>5:35:00 AM</td>\n      <td>14507</td>\n      <td>66</td>\n      <td>0</td>\n      <td>0</td>\n      <td>NaN</td>\n      <td>STOKES-WINDERMERE STATION BUS STOP #3</td>\n      <td>NaN</td>\n      <td>41.530769</td>\n      <td>-81.584102</td>\n      <td>NaN</td>\n      <td>NaN</td>\n      <td>0</td>\n      <td>NaN</td>\n    </tr>\n    <tr>\n      <th>4</th>\n      <td>16741671</td>\n      <td>5:05:00 AM</td>\n      <td>5:05:00 AM</td>\n      <td>14507</td>\n      <td>66</td>\n      <td>0</td>\n      <td>0</td>\n      <td>NaN</td>\n      <td>STOKES-WINDERMERE STATION BUS STOP #3</td>\n      <td>NaN</td>\n      <td>41.530769</td>\n      <td>-81.584102</td>\n      <td>NaN</td>\n      <td>NaN</td>\n      <td>0</td>\n      <td>NaN</td>\n    </tr>\n  </tbody>\n</table>\n</div>"
     },
     "metadata": {},
     "execution_count": 8
    }
   ],
   "source": [
    "#Merge dataframes\n",
    "combined_df = pd.merge(stoptimes_df,stops_df,on=\"stop_id\")\n",
    "combined_df.head()"
   ]
  },
  {
   "cell_type": "code",
   "execution_count": 6,
   "metadata": {},
   "outputs": [
    {
     "output_type": "execute_result",
     "data": {
      "text/plain": "         trip_id  arrival_time  departure_time  stop_sequence  pickup_type  \\\nstop_id                                                                      \n1            110           110             110            110          110   \n2            180           173             173            180          180   \n4            519           477             477            519          519   \n5            299           283             283            299          299   \n14           987           950             950            987          987   \n\n         drop_off_type  \nstop_id                 \n1                  110  \n2                  180  \n4                  519  \n5                  299  \n14                 987  ",
      "text/html": "<div>\n<style scoped>\n    .dataframe tbody tr th:only-of-type {\n        vertical-align: middle;\n    }\n\n    .dataframe tbody tr th {\n        vertical-align: top;\n    }\n\n    .dataframe thead th {\n        text-align: right;\n    }\n</style>\n<table border=\"1\" class=\"dataframe\">\n  <thead>\n    <tr style=\"text-align: right;\">\n      <th></th>\n      <th>trip_id</th>\n      <th>arrival_time</th>\n      <th>departure_time</th>\n      <th>stop_sequence</th>\n      <th>pickup_type</th>\n      <th>drop_off_type</th>\n    </tr>\n    <tr>\n      <th>stop_id</th>\n      <th></th>\n      <th></th>\n      <th></th>\n      <th></th>\n      <th></th>\n      <th></th>\n    </tr>\n  </thead>\n  <tbody>\n    <tr>\n      <th>1</th>\n      <td>110</td>\n      <td>110</td>\n      <td>110</td>\n      <td>110</td>\n      <td>110</td>\n      <td>110</td>\n    </tr>\n    <tr>\n      <th>2</th>\n      <td>180</td>\n      <td>173</td>\n      <td>173</td>\n      <td>180</td>\n      <td>180</td>\n      <td>180</td>\n    </tr>\n    <tr>\n      <th>4</th>\n      <td>519</td>\n      <td>477</td>\n      <td>477</td>\n      <td>519</td>\n      <td>519</td>\n      <td>519</td>\n    </tr>\n    <tr>\n      <th>5</th>\n      <td>299</td>\n      <td>283</td>\n      <td>283</td>\n      <td>299</td>\n      <td>299</td>\n      <td>299</td>\n    </tr>\n    <tr>\n      <th>14</th>\n      <td>987</td>\n      <td>950</td>\n      <td>950</td>\n      <td>987</td>\n      <td>987</td>\n      <td>987</td>\n    </tr>\n  </tbody>\n</table>\n</div>"
     },
     "metadata": {},
     "execution_count": 6
    }
   ],
   "source": [
    "#stopid_group = stoptimes_df.groupby([\"stop_id\"]).count()\n",
    "#stopid_group.head()"
   ]
  },
  {
   "cell_type": "code",
   "execution_count": null,
   "metadata": {},
   "outputs": [],
   "source": []
  }
 ]
}